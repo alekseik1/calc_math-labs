{
 "cells": [
  {
   "cell_type": "code",
   "execution_count": 1,
   "metadata": {
    "ExecuteTime": {
     "end_time": "2018-11-27T17:02:48.844538Z",
     "start_time": "2018-11-27T17:02:47.927359Z"
    }
   },
   "outputs": [],
   "source": [
    "import numpy as np\n",
    "import scipy\n",
    "import matplotlib.pyplot as plt\n",
    "from sympy import diff, symbols, Symbol, integrate, solve, sqrt, log, sin, cos, lambdify\n",
    "%matplotlib inline"
   ]
  },
  {
   "cell_type": "markdown",
   "metadata": {},
   "source": [
    "# Задание 1. Линейные системы. Устойчивость численных методов."
   ]
  },
  {
   "cell_type": "markdown",
   "metadata": {},
   "source": [
    "Решить численно задачу о колебаниях в системе, где и возвращающая сила, и\n",
    "коэффициент вязкого трения убывают со временем (уравнение Эйлера):\n",
    "$$\n",
    "\\ddot{x} + 100\\,\\dfrac{x}{t^2} = 0\n",
    "$$ \n",
    "Сначала решим численно!\n",
    "Подстановка $x = t^\\alpha$ дает следующее уравнение:\n",
    "$$\n",
    "\\boxed{\n",
    "    x (t) = C_1 \\sqrt{t} \\sin \\left( \\frac{1}{2} \\sqrt{399} \\ln{t} \\right) + C_2 \\sqrt{t} \\cos \\left( \\frac{1}{2} \\sqrt{399} \\ln{t} \\right)\n",
    "}\n",
    "$$"
   ]
  },
  {
   "cell_type": "code",
   "execution_count": 2,
   "metadata": {
    "ExecuteTime": {
     "end_time": "2018-11-27T17:02:49.041302Z",
     "start_time": "2018-11-27T17:02:48.847417Z"
    },
    "deletable": false,
    "editable": false
   },
   "outputs": [],
   "source": [
    "# Запишем решение\n",
    "C1, C2, t = symbols('C1 C2 t')\n",
    "sol = C1*sqrt(t)*sin(0.5*sqrt(399)*log(t)) \\\n",
    "                        + C2*sqrt(t)*cos(0.5*sqrt(399)*log(t))\n",
    "sol_d1 = lambdify(t, diff(sol, t))\n",
    "C1_sol, C2_sol = list(solve([sol_d1(1) - 1, sol.subs(t, 1) - 1]).values())\n",
    "t_theor = lambdify(t, sol.subs(C1, C1_sol).subs(C2, C2_sol))"
   ]
  },
  {
   "cell_type": "code",
   "execution_count": 3,
   "metadata": {
    "ExecuteTime": {
     "end_time": "2018-11-27T17:02:49.046180Z",
     "start_time": "2018-11-27T17:02:49.042850Z"
    },
    "deletable": false,
    "editable": false
   },
   "outputs": [],
   "source": [
    "def compare_results(theor, predicted):\n",
    "    print('  Вычисленное x(101) = ' + str(predicted))\n",
    "    print('  Теоретическое x(101) = ' + str(theor))"
   ]
  },
  {
   "cell_type": "code",
   "execution_count": 4,
   "metadata": {
    "ExecuteTime": {
     "end_time": "2018-11-27T17:02:49.053567Z",
     "start_time": "2018-11-27T17:02:49.049309Z"
    },
    "deletable": false,
    "editable": false
   },
   "outputs": [],
   "source": [
    "system_of_eq = lambda t, x: np.array([\n",
    "    1.0,  # Время\n",
    "    x[2],  # x точка\n",
    "    -100.0*x[1]/x[0]**2,  # p точка\n",
    "])"
   ]
  },
  {
   "cell_type": "code",
   "execution_count": 5,
   "metadata": {
    "ExecuteTime": {
     "end_time": "2018-11-27T17:02:49.060669Z",
     "start_time": "2018-11-27T17:02:49.057005Z"
    },
    "deletable": false,
    "editable": false
   },
   "outputs": [],
   "source": [
    "x_start = np.array([1.0, 1.0, 1.0])\n",
    "t_stop = 101.0\n",
    "h = 0.1"
   ]
  },
  {
   "cell_type": "markdown",
   "metadata": {},
   "source": [
    "## Методы Эйлера"
   ]
  },
  {
   "cell_type": "markdown",
   "metadata": {},
   "source": [
    "Для решения методом Эйлера разобьем на нормальную систему уравнений:\n",
    "\n",
    "$$\n",
    "\\begin{cases}\n",
    "    \\dot{x} = p \\\\\n",
    "    \\dot{p} = -100\\, \\cfrac{x}{t^2}\n",
    "\\end{cases}\n",
    "$$"
   ]
  },
  {
   "cell_type": "markdown",
   "metadata": {},
   "source": [
    "### Явный метод Эйлера"
   ]
  },
  {
   "cell_type": "code",
   "execution_count": 6,
   "metadata": {
    "ExecuteTime": {
     "end_time": "2018-11-27T17:02:49.069619Z",
     "start_time": "2018-11-27T17:02:49.065367Z"
    }
   },
   "outputs": [],
   "source": [
    "# Явный метод Эйлера\n",
    "def eiler_1(funcs, x_start, t_stop, h=0.1):\n",
    "    # Начальное значение\n",
    "    x = x_start\n",
    "    while x[0] < t_stop:\n",
    "        x += h*funcs(x)\n",
    "    return x"
   ]
  },
  {
   "cell_type": "code",
   "execution_count": 7,
   "metadata": {
    "ExecuteTime": {
     "end_time": "2018-11-27T17:02:49.080353Z",
     "start_time": "2018-11-27T17:02:49.071775Z"
    }
   },
   "outputs": [],
   "source": [
    "# Параметр времени не используется, но мы передаем его для правильной работы scipy\n",
    "x_1 = eiler_1(lambda x: system_of_eq(0, x), x_start.copy(), t_stop, h)"
   ]
  },
  {
   "cell_type": "code",
   "execution_count": 8,
   "metadata": {
    "ExecuteTime": {
     "end_time": "2018-11-27T17:02:49.088068Z",
     "start_time": "2018-11-27T17:02:49.082961Z"
    }
   },
   "outputs": [
    {
     "name": "stdout",
     "output_type": "stream",
     "text": [
      "  Вычисленное x(101) = 387.60543228423273\n",
      "  Теоретическое x(101) = -4.73890168470781\n"
     ]
    }
   ],
   "source": [
    "compare_results(t_theor(t_stop), x_1[1])"
   ]
  },
  {
   "cell_type": "markdown",
   "metadata": {},
   "source": [
    "Результаты очень плохие. Это объясняется тем, что явный метод Эйлера дает ошибку $o (h)$, которая в нашем случае оказалась велика."
   ]
  },
  {
   "cell_type": "markdown",
   "metadata": {},
   "source": [
    "### Неявный метод Эйлера"
   ]
  },
  {
   "cell_type": "code",
   "execution_count": 9,
   "metadata": {
    "ExecuteTime": {
     "end_time": "2018-11-27T17:02:49.094496Z",
     "start_time": "2018-11-27T17:02:49.090023Z"
    }
   },
   "outputs": [],
   "source": [
    "# Неявный метод Эйлера\n",
    "def eiler_2(funcs, x_start, t_stop, h=0.1):\n",
    "    # Начальное значение\n",
    "    x = x_start\n",
    "    while x[0] < t_stop:\n",
    "        # Прогноз\n",
    "        x_tmp_tmp = x + h*funcs(x)\n",
    "        # Пересчет\n",
    "        x_tmp = x + h*(funcs(x) + funcs(x_tmp_tmp))/2\n",
    "        x += h*(funcs(x) + funcs(x_tmp))/2\n",
    "    return x"
   ]
  },
  {
   "cell_type": "code",
   "execution_count": 10,
   "metadata": {
    "ExecuteTime": {
     "end_time": "2018-11-27T17:02:49.121761Z",
     "start_time": "2018-11-27T17:02:49.097369Z"
    }
   },
   "outputs": [],
   "source": [
    "# Параметр времени не используется, но мы передаем его для правильной работы scipy\n",
    "x_2 = eiler_2(lambda x: system_of_eq(0, x), x_start.copy(), t_stop, h)"
   ]
  },
  {
   "cell_type": "code",
   "execution_count": 11,
   "metadata": {
    "ExecuteTime": {
     "end_time": "2018-11-27T17:02:49.127993Z",
     "start_time": "2018-11-27T17:02:49.124047Z"
    }
   },
   "outputs": [
    {
     "name": "stdout",
     "output_type": "stream",
     "text": [
      "  Вычисленное x(101) = -1.7472631764270972\n",
      "  Теоретическое x(101) = -4.73890168470781\n"
     ]
    }
   ],
   "source": [
    "compare_results(t_theor(t_stop), x_2[1])"
   ]
  },
  {
   "cell_type": "markdown",
   "metadata": {},
   "source": [
    "Неявный метод Эйлера дает неплохие результаты. Более того, он оказывается самым точным, поскольку дает точность $o(h^2)$, к тому же, имеет повышенную устройчивость и позволяет обойти некоторые проблемы при решении жестких систем ДУ."
   ]
  },
  {
   "cell_type": "markdown",
   "metadata": {},
   "source": [
    "### Метод Эйлера с центральной точкой"
   ]
  },
  {
   "cell_type": "code",
   "execution_count": 12,
   "metadata": {
    "ExecuteTime": {
     "end_time": "2018-11-27T17:02:49.134958Z",
     "start_time": "2018-11-27T17:02:49.130789Z"
    }
   },
   "outputs": [],
   "source": [
    "# метод Эйлера с центральной точкой\n",
    "def eiler_3(funcs, x_start, t_stop, h=0.1):\n",
    "    # Начальное значение\n",
    "    x = x_start\n",
    "    while x[0] < t_stop:\n",
    "        # Нам придется \"подгядеть\" f_(i+1), а затем взять полусумму с f_i\n",
    "        x_tmp = (funcs(x + h*funcs(x)) + funcs(x))/2\n",
    "        # Результат прибавлять в качестве вектора касательной\n",
    "        x += h*x_tmp\n",
    "    return x"
   ]
  },
  {
   "cell_type": "code",
   "execution_count": 13,
   "metadata": {
    "ExecuteTime": {
     "end_time": "2018-11-27T17:02:49.156900Z",
     "start_time": "2018-11-27T17:02:49.137539Z"
    }
   },
   "outputs": [],
   "source": [
    "# Параметр времени не используется, но мы передаем его для правильной работы scipy\n",
    "x_3 = eiler_3(lambda x: system_of_eq(0, x), x_start.copy(), t_stop, h)"
   ]
  },
  {
   "cell_type": "code",
   "execution_count": 14,
   "metadata": {
    "ExecuteTime": {
     "end_time": "2018-11-27T17:02:49.160856Z",
     "start_time": "2018-11-27T17:02:49.158137Z"
    }
   },
   "outputs": [
    {
     "name": "stdout",
     "output_type": "stream",
     "text": [
      "  Вычисленное x(101) = -13.961618490145836\n",
      "  Теоретическое x(101) = -4.73890168470781\n"
     ]
    }
   ],
   "source": [
    "compare_results(t_theor(t_stop), x_3[1])"
   ]
  },
  {
   "cell_type": "markdown",
   "metadata": {},
   "source": [
    "Метод Эйлера с центральной точкой дает результаты лучше явного, но хуже неявного (из-за меньшей устойчивости по сравнению с неявным)."
   ]
  },
  {
   "cell_type": "markdown",
   "metadata": {},
   "source": [
    "## Метод Дормана-Принса"
   ]
  },
  {
   "cell_type": "code",
   "execution_count": 15,
   "metadata": {
    "ExecuteTime": {
     "end_time": "2018-11-27T17:02:49.363720Z",
     "start_time": "2018-11-27T17:02:49.164216Z"
    }
   },
   "outputs": [],
   "source": [
    "from scipy.integrate import solve_ivp"
   ]
  },
  {
   "cell_type": "code",
   "execution_count": 16,
   "metadata": {
    "ExecuteTime": {
     "end_time": "2018-11-27T17:02:49.377543Z",
     "start_time": "2018-11-27T17:02:49.365257Z"
    }
   },
   "outputs": [],
   "source": [
    "sol = solve_ivp(system_of_eq, (x_start[0], t_stop), x_start, method='RK45')"
   ]
  },
  {
   "cell_type": "code",
   "execution_count": 17,
   "metadata": {
    "ExecuteTime": {
     "end_time": "2018-11-27T17:02:49.384959Z",
     "start_time": "2018-11-27T17:02:49.379422Z"
    }
   },
   "outputs": [
    {
     "name": "stdout",
     "output_type": "stream",
     "text": [
      "  Вычисленное x(101) = -4.820773818864743\n",
      "  Теоретическое x(101) = -4.73890168470781\n"
     ]
    }
   ],
   "source": [
    "compare_results(t_theor(t_stop), sol.y[1][-1])"
   ]
  },
  {
   "cell_type": "markdown",
   "metadata": {},
   "source": [
    "Метод Дормана-Принса дает хорошие результаты интегрирования."
   ]
  },
  {
   "cell_type": "code",
   "execution_count": null,
   "metadata": {},
   "outputs": [],
   "source": []
  }
 ],
 "metadata": {
  "kernelspec": {
   "display_name": "Python 3",
   "language": "python",
   "name": "python3"
  },
  "language_info": {
   "codemirror_mode": {
    "name": "ipython",
    "version": 3
   },
   "file_extension": ".py",
   "mimetype": "text/x-python",
   "name": "python",
   "nbconvert_exporter": "python",
   "pygments_lexer": "ipython3",
   "version": "3.7.1"
  },
  "latex_envs": {
   "LaTeX_envs_menu_present": true,
   "autoclose": false,
   "autocomplete": true,
   "bibliofile": "biblio.bib",
   "cite_by": "apalike",
   "current_citInitial": 1,
   "eqLabelWithNumbers": true,
   "eqNumInitial": 1,
   "hotkeys": {
    "equation": "Ctrl-E",
    "itemize": "Ctrl-I"
   },
   "labels_anchors": false,
   "latex_user_defs": false,
   "report_style_numbering": false,
   "user_envs_cfg": false
  }
 },
 "nbformat": 4,
 "nbformat_minor": 1
}
