{
 "cells": [
  {
   "cell_type": "markdown",
   "metadata": {
    "pycharm": {}
   },
   "source": [
    "# Вариант 9\n",
    "\n",
    "Рассматривается система линейных гиперболических уравнений:\n",
    "\n",
    "\\begin{gather*}\n",
    "    \\frac { \\partial \\mathbf { u } } { \\partial t } + \\mathbf { A } \\frac { \\partial \\mathbf { u } } { \\partial x } = \\mathbf { b } ( x ) , ~ 0 \\leqslant x \\leqslant 1, ~ 0 \\leqslant t \\leqslant 1, ~~ \n",
    "    \\mathbf { u } ( x , 0 ) = \\left( \\begin{array} { c } { 2 x - x ^ { 3 } } \\\\ { x ^ { 3 } } \\\\ { x ^ { 2 } + 1 } \\end{array} \\right) \\\\\n",
    "    \\mathbf { A } = \\left( \\begin{array} { c c c } { - 21 / 2 } & { 27 / 2 } & { 3 / 2 } \\\\ { - 7 } & { 9 } & { 1 } \\\\ { 13 / 2 } & { - 19 / 2 } & { - 3 / 2 } \\end{array} \\right), ~~ \n",
    "    \\mathbf { b } ( x ) = \\left( \\begin{array} { l } { 0 } \\\\ { 0 } \\\\ { 0 } \\end{array} \\right)\n",
    "\\end{gather*}\n",
    "\n",
    "Привести систему к характеристическому виду, предложить корректную постановку граничных условий.\n",
    "\n",
    "Решить численно систему уравенний с использованием двух указанных схем.\n",
    "Для каждой из схем выписать первое дифференциальное приближение (ПДП), \n",
    "определить, диссипативная или дисперсионная ошибка преобладает.\n",
    "Монотонна ли схема? Оценить апостериорно порядок сходимости каждой схемы.\n",
    "\n",
    "### Разностные схемы\n",
    "Схемы приводятся для модельного уравнения $ \\frac { \\partial u } { \\partial t } + a \\frac { \\partial u } { \\partial x } = 0 , ~ a = \\text { const } > 0 $ на сетке $ x _ { m } = m h , ~ m = 0 \\dots M , ~ M h = 1 ; ~ t ^ { n } = n \\tau , ~ n = 0 \\dots N, ~ N \\tau = 1 $. При необходимости преобразовать схемы для случая $ a = \\text{const} < 0 $.\n",
    "\n",
    "1) \"Неявный\" правый уголок (схема бегущего счета)\n",
    "\\begin{equation}\n",
    "    \\frac { u _ { m } ^ { n + 1 } - u _ { m } ^ { n } } { \\tau } + a \\frac { u _ { m + 1 } ^ { n + 1 } - u _ { m } ^ { n + 1 } } { h } = 0\n",
    "\\end{equation}\n",
    "\n",
    "2) Центральная схема второго порядка (Лакса-Вендроффа, МакКормака)\n",
    "\\begin{equation}\n",
    "    \\frac { u _ { m } ^ { n + 1 } - u _ { m } ^ { n } } { \\tau } + a \\frac { u _ { m + 1 } ^ { n } - u _ { m - 1 } ^ { n } } { 2 h } = \\frac { a ^ { 2 } \\tau } { 2 } \\frac { u _ { m + 1 } ^ { n } - 2 u _ { m } ^ { n } + u _ { m - 1 } ^ { n } } { h ^ { 2 } }\n",
    "\\end{equation}"
   ]
  },
  {
   "cell_type": "markdown",
   "metadata": {
    "pycharm": {}
   },
   "source": [
    "## Анализ системы\n",
    "\n",
    "Приведем систему к характеристическому виду. Для этого найдем левые собственные вектора (см. код ниже), затем приведем систему к каноническому виду. Это реализовано ниже."
   ]
  },
  {
   "cell_type": "code",
   "execution_count": 1,
   "metadata": {
    "ExecuteTime": {
     "end_time": "2019-05-13T10:53:02.068670Z",
     "start_time": "2019-05-13T10:53:00.416670Z"
    },
    "code_folding": [],
    "pycharm": {
     "is_executing": false
    }
   },
   "outputs": [],
   "source": [
    "# Подготовительный этап\n",
    "from IPython.display import display, Math, Latex, Markdown\n",
    "import pprint\n",
    "import sympy as sp\n",
    "from sympy import Matrix, Rational, latex, symbols\n",
    "import numpy as np\n",
    "from scipy.linalg import eig\n",
    "import matplotlib.pyplot as plt\n",
    "from matplotlib import animation\n",
    "x, u, t = sp.symbols('x u t')"
   ]
  },
  {
   "cell_type": "code",
   "execution_count": 2,
   "metadata": {
    "ExecuteTime": {
     "end_time": "2019-05-13T10:53:02.081675Z",
     "start_time": "2019-05-13T10:53:02.072672Z"
    },
    "pycharm": {
     "is_executing": false
    }
   },
   "outputs": [],
   "source": [
    "# Вбиваем данные задачи\n",
    "A = Matrix([\n",
    "    [Rational(-21, 2), Rational(27, 2), Rational(3, 2)], \n",
    "    [-7, 9, 1], \n",
    "    [Rational(13, 2), Rational(-19, 2), Rational(-3, 2)]\n",
    "])\n",
    "#A = sp.diag(10, 5, 30)\n",
    "b = Matrix([0, 0, 0])\n",
    "u = Matrix([2*x - x**3, x**3, x**2 + 1])"
   ]
  },
  {
   "cell_type": "code",
   "execution_count": 3,
   "metadata": {
    "ExecuteTime": {
     "end_time": "2019-05-13T10:53:02.130672Z",
     "start_time": "2019-05-13T10:53:02.085673Z"
    },
    "pycharm": {
     "is_executing": false
    },
    "scrolled": true
   },
   "outputs": [
    {
     "name": "stdout",
     "output_type": "stream",
     "text": [
      "Собственные значения и собственные вектора:\n"
     ]
    },
    {
     "data": {
      "text/latex": [
       "$\\displaystyle \\lambda_1 = -2; ~ \\omega_1 = \\left[\\begin{matrix}-5\\\\7\\\\1\\end{matrix}\\right]$"
      ],
      "text/plain": [
       "<IPython.core.display.Math object>"
      ]
     },
     "metadata": {},
     "output_type": "display_data"
    },
    {
     "data": {
      "text/latex": [
       "$\\displaystyle \\lambda_2 = -1; ~ \\omega_2 = \\left[\\begin{matrix}-3\\\\5\\\\1\\end{matrix}\\right]$"
      ],
      "text/plain": [
       "<IPython.core.display.Math object>"
      ]
     },
     "metadata": {},
     "output_type": "display_data"
    },
    {
     "data": {
      "text/latex": [
       "$\\displaystyle \\lambda_3 = 0; ~ \\omega_3 = \\left[\\begin{matrix}- \\frac{2}{3}\\\\1\\\\0\\end{matrix}\\right]$"
      ],
      "text/plain": [
       "<IPython.core.display.Math object>"
      ]
     },
     "metadata": {},
     "output_type": "display_data"
    }
   ],
   "source": [
    "# Ищем собственные вектора и собственные значения\n",
    "print('Собственные значения и собственные вектора:')\n",
    "tmp = A.T.eigenvects()\n",
    "# Выводим это на экран\n",
    "for i, tup in enumerate(tmp):\n",
    "    display(Math(\n",
    "        '\\lambda_{0} = {1}; ~ \\omega_{0} = {2}'\n",
    "        .format( str(i+1), tup[0], latex(tup[2][0]) )\n",
    "    ))"
   ]
  },
  {
   "cell_type": "code",
   "execution_count": 4,
   "metadata": {
    "ExecuteTime": {
     "end_time": "2019-05-13T10:53:02.144674Z",
     "start_time": "2019-05-13T10:53:02.135673Z"
    },
    "pycharm": {
     "is_executing": false
    }
   },
   "outputs": [],
   "source": [
    "# Считаем матрицы, которые нам потом пригодятся\n",
    "Omega = Matrix([Matrix(i[2][0]).T for i in tmp])\n",
    "lambdas = [i[0] for i in tmp]\n",
    "Lambda = sp.diag(*lambdas)"
   ]
  },
  {
   "cell_type": "code",
   "execution_count": 5,
   "metadata": {
    "ExecuteTime": {
     "end_time": "2019-05-13T10:53:02.165672Z",
     "start_time": "2019-05-13T10:53:02.148674Z"
    },
    "pycharm": {
     "is_executing": false,
     "metadata": false,
     "name": "#%%\n"
    },
    "scrolled": false
   },
   "outputs": [
    {
     "data": {
      "text/latex": [
       "Запишем матрицу перехода: $ \\Omega = \\left[\\begin{matrix}-5 & 7 & 1\\\\-3 & 5 & 1\\\\- \\frac{2}{3} & 1 & 0\\end{matrix}\\right]$"
      ],
      "text/plain": [
       "<IPython.core.display.Latex object>"
      ]
     },
     "metadata": {},
     "output_type": "display_data"
    },
    {
     "data": {
      "text/latex": [
       "а также обратную ей: $ \\Omega^{-1} = \\left[\\begin{matrix}- \\frac{3}{2} & \\frac{3}{2} & 3\\\\-1 & 1 & 3\\\\\\frac{1}{2} & \\frac{1}{2} & -6\\end{matrix}\\right]$"
      ],
      "text/plain": [
       "<IPython.core.display.Latex object>"
      ]
     },
     "metadata": {},
     "output_type": "display_data"
    },
    {
     "data": {
      "text/latex": [
       "$\\displaystyle A = \\Omega^{-1} \\Lambda \\Omega$"
      ],
      "text/plain": [
       "<IPython.core.display.Math object>"
      ]
     },
     "metadata": {},
     "output_type": "display_data"
    }
   ],
   "source": [
    "display(Latex(r'Запишем матрицу перехода: $ \\Omega = {}$'.format(latex(Omega))),\n",
    "        Latex(r'а также обратную ей: $ \\Omega^{{-1}} = {}$'.format(latex(Omega**(-1)))),\n",
    "        Math(r'A = \\Omega^{-1} \\Lambda \\Omega')\n",
    "       )"
   ]
  },
  {
   "cell_type": "code",
   "execution_count": 6,
   "metadata": {
    "ExecuteTime": {
     "end_time": "2019-05-13T10:53:02.554668Z",
     "start_time": "2019-05-13T10:53:02.169672Z"
    }
   },
   "outputs": [
    {
     "data": {
      "text/latex": [
       "$\\displaystyle \\left[\\begin{matrix}- x^{3} + 2 x\\\\x^{3}\\\\x^{2} + 1\\end{matrix}\\right]$"
      ],
      "text/plain": [
       "Matrix([\n",
       "[-x**3 + 2*x],\n",
       "[       x**3],\n",
       "[   x**2 + 1]])"
      ]
     },
     "execution_count": 6,
     "metadata": {},
     "output_type": "execute_result"
    }
   ],
   "source": [
    "u"
   ]
  },
  {
   "cell_type": "code",
   "execution_count": 7,
   "metadata": {
    "ExecuteTime": {
     "end_time": "2019-05-13T10:53:02.588675Z",
     "start_time": "2019-05-13T10:53:02.558671Z"
    },
    "pycharm": {
     "is_executing": false
    },
    "scrolled": false
   },
   "outputs": [
    {
     "data": {
      "text/latex": [
       "$\\displaystyle \\mathbf{I} (x, 0) = \\left[\\begin{matrix}12 x^{3} + x^{2} - 10 x + 1\\\\8 x^{3} + x^{2} - 6 x + 1\\\\\\frac{5 x^{3}}{3} - \\frac{4 x}{3}\\end{matrix}\\right], ~~~~ \\Lambda = \\left[\\begin{matrix}-2 & 0 & 0\\\\0 & -1 & 0\\\\0 & 0 & 0\\end{matrix}\\right]$"
      ],
      "text/plain": [
       "<IPython.core.display.Math object>"
      ]
     },
     "metadata": {},
     "output_type": "display_data"
    }
   ],
   "source": [
    "I = Omega*u\n",
    "display(\n",
    "    Math(r'\\mathbf{{I}} (x, 0) = {}, ~~~~ \\Lambda = {}'\n",
    "         .format( latex(I), latex(Lambda) )\n",
    "        )\n",
    ")"
   ]
  },
  {
   "cell_type": "markdown",
   "metadata": {
    "pycharm": {}
   },
   "source": [
    "#### О постановке граничных условий:\n",
    "В нашей системе есть 0 положительных собственных значений, 1 нулевое и 2 \n",
    "отрицательных. \n",
    "Значит, на левой границе не нужно ставить граничных условий, на правой же границе нужно 2.\n",
    "В нулевом значении достаточно задать только начальное условие.\n",
    "\n",
    "Попробуем поставить граничные условия вида:\n",
    "\n",
    "\\begin{equation}\n",
    "u|_{t = 0} = f(x), ~~ u|_{x = 1} = g(t)\n",
    "\\end{equation} \n",
    "\n",
    "На них будет наложено необходимое условие разрешимости:\n",
    "$ f(1) = g(0) $.\n",
    "Потребуем также, чтобы производная не терпела разрыв: $ f'(1) = g'(0) $. Итого:\n",
    "\n",
    "\\begin{gather}\n",
    "    \\boxed{\n",
    "    f(1) = g(0) \\\\\n",
    "    f'(1) = g'(0)\n",
    "    }\n",
    "\\end{gather}"
   ]
  },
  {
   "cell_type": "code",
   "execution_count": 8,
   "metadata": {
    "ExecuteTime": {
     "end_time": "2019-05-13T10:53:02.730673Z",
     "start_time": "2019-05-13T10:53:02.596674Z"
    },
    "pycharm": {
     "is_executing": false
    },
    "scrolled": false
   },
   "outputs": [
    {
     "data": {
      "text/markdown": [
       "Итак, мы получили 3 уравнения:"
      ],
      "text/plain": [
       "<IPython.core.display.Markdown object>"
      ]
     },
     "metadata": {},
     "output_type": "display_data"
    },
    {
     "data": {
      "text/latex": [
       "$\\displaystyle \\cfrac{\\partial I_1 } {\\partial t} -2\\cdot\\cfrac{\\partial I_1 } {\\partial x} = 0, ~ I_1 (x, 0) =12 x^{3} + x^{2} - 10 x + 1$"
      ],
      "text/plain": [
       "<IPython.core.display.Math object>"
      ]
     },
     "metadata": {},
     "output_type": "display_data"
    },
    {
     "data": {
      "text/latex": [
       "$\\displaystyle \\cfrac{\\partial I_2 } {\\partial t} -1\\cdot\\cfrac{\\partial I_2 } {\\partial x} = 0, ~ I_2 (x, 0) =8 x^{3} + x^{2} - 6 x + 1$"
      ],
      "text/plain": [
       "<IPython.core.display.Math object>"
      ]
     },
     "metadata": {},
     "output_type": "display_data"
    },
    {
     "data": {
      "text/latex": [
       "$\\displaystyle \\cfrac{\\partial I_3 } {\\partial t} +0\\cdot\\cfrac{\\partial I_3 } {\\partial x} = 0, ~ I_3 (x, 0) =\\frac{5 x^{3}}{3} - \\frac{4 x}{3}$"
      ],
      "text/plain": [
       "<IPython.core.display.Math object>"
      ]
     },
     "metadata": {},
     "output_type": "display_data"
    },
    {
     "data": {
      "text/markdown": [
       "Эти уравнения имеют решения:"
      ],
      "text/plain": [
       "<IPython.core.display.Markdown object>"
      ]
     },
     "metadata": {},
     "output_type": "display_data"
    },
    {
     "data": {
      "text/latex": [
       "$\\displaystyle I_1 (t, x) = - 20 t - 10 x + 12 \\left(2 t + x\\right)^{3} + \\left(2 t + x\\right)^{2} + 1$"
      ],
      "text/plain": [
       "<IPython.core.display.Math object>"
      ]
     },
     "metadata": {},
     "output_type": "display_data"
    },
    {
     "data": {
      "text/latex": [
       "$\\displaystyle I_2 (t, x) = - 6 t - 6 x + 8 \\left(t + x\\right)^{3} + \\left(t + x\\right)^{2} + 1$"
      ],
      "text/plain": [
       "<IPython.core.display.Math object>"
      ]
     },
     "metadata": {},
     "output_type": "display_data"
    },
    {
     "data": {
      "text/latex": [
       "$\\displaystyle I_3 (t, x) = \\frac{5 x^{3}}{3} - \\frac{4 x}{3}$"
      ],
      "text/plain": [
       "<IPython.core.display.Math object>"
      ]
     },
     "metadata": {},
     "output_type": "display_data"
    },
    {
     "data": {
      "text/markdown": [
       "из которых (полагая, что решение должно быть из класса $C^1$) имеем граничные условия:"
      ],
      "text/plain": [
       "<IPython.core.display.Markdown object>"
      ]
     },
     "metadata": {},
     "output_type": "display_data"
    },
    {
     "data": {
      "text/latex": [
       "$\\displaystyle \\left. I_1 \\right|_{x=1} (t) = - 20 t + 12 \\left(2 t + 1\\right)^{3} + \\left(2 t + 1\\right)^{2} - 9$"
      ],
      "text/plain": [
       "<IPython.core.display.Math object>"
      ]
     },
     "metadata": {},
     "output_type": "display_data"
    },
    {
     "data": {
      "text/latex": [
       "$\\displaystyle \\left. I_2 \\right|_{x=1} (t) = - 6 t + 8 \\left(t + 1\\right)^{3} + \\left(t + 1\\right)^{2} - 5$"
      ],
      "text/plain": [
       "<IPython.core.display.Math object>"
      ]
     },
     "metadata": {},
     "output_type": "display_data"
    },
    {
     "data": {
      "text/latex": [
       "$\\displaystyle \\left. I_3 \\right|_{x=1} (t) = \\frac{1}{3}$"
      ],
      "text/plain": [
       "<IPython.core.display.Math object>"
      ]
     },
     "metadata": {},
     "output_type": "display_data"
    }
   ],
   "source": [
    "x_nepr_border = [I[i].subs(x, x-lambdas[i]*t).subs(x, 1) for i in range(len(lambdas))]\n",
    "exact_sol = [I[i].subs(x, x-lambdas[i]*t) for i in range(len(lambdas))]\n",
    "exact_sol_funcs = [sp.lambdify((t, x), exact_sol[i]) for i in range(len(lambdas))]\n",
    "display(\n",
    "    Markdown('Итак, мы получили {} уравнения:'.format(Lambda.shape[0])),\n",
    "    *[\n",
    "        Math( \n",
    "            (r'\\cfrac{{\\partial I_{i} }} {{\\partial t}} {sign}{koeff}\\cdot'+ \n",
    "             r'\\cfrac{{\\partial I_{i} }} {{\\partial x}} = {left_part}' +\n",
    "             ', ~ I_{i} (x, 0) =' \n",
    "            ).format(\n",
    "                i=(k+1), \n",
    "                sign='+' if lambdas[k] >= 0 else '-',\n",
    "                koeff=abs(lambdas[k]),\n",
    "                size=Lambda.shape[0],\n",
    "                left_part=b[k]\n",
    "            )\n",
    "            + sp.latex( (Omega*u)[k] )\n",
    "        ) for k in range(Lambda.shape[0])\n",
    "    ],\n",
    "    Markdown(\n",
    "        'Эти уравнения имеют решения:',\n",
    "    ),\n",
    "    *[Math( \n",
    "        'I_{} (t, x) = '.format(i+1) + \n",
    "        latex(exact_sol[i]) \n",
    "    ) for i in range(len(lambdas))],\n",
    "    Markdown(\n",
    "        'из которых (полагая, что решение должно быть из класса $C^1$) имеем граничные условия:'\n",
    "    ),\n",
    "    *[\n",
    "        Math(\n",
    "            r'\\left. I_{n} \\right|_{{x={x_max}}} (t) = '.format(n=i+1, x_max=1) +\n",
    "            latex(x_nepr_border[i])\n",
    "        ) for i in range(len(lambdas))\n",
    "    ]\n",
    ")"
   ]
  },
  {
   "cell_type": "code",
   "execution_count": null,
   "metadata": {
    "ExecuteTime": {
     "start_time": "2019-05-13T10:53:00.452Z"
    },
    "pycharm": {
     "is_executing": false
    }
   },
   "outputs": [],
   "source": [
    "from utils import make_grid, AnimationHelper"
   ]
  },
  {
   "cell_type": "code",
   "execution_count": null,
   "metadata": {
    "ExecuteTime": {
     "start_time": "2019-05-13T10:53:00.457Z"
    }
   },
   "outputs": [],
   "source": [
    "X_MIN, X_MAX, T_MIN, T_MAX = 0.0, 1.0, 0.0, 1.0"
   ]
  },
  {
   "cell_type": "code",
   "execution_count": null,
   "metadata": {
    "ExecuteTime": {
     "start_time": "2019-05-13T10:53:00.460Z"
    }
   },
   "outputs": [],
   "source": [
    "# pure function\n",
    "def calculate_all(kernel, timezero_funcs, xzero_funcs,\n",
    "                  a, h, tau, \n",
    "                  x_min=0, x_max=1, t_min=0, t_max=1):\n",
    "    \"\"\"\n",
    "    Делает подсчеты с заданным ядром метода для всех компонент\n",
    "    \"\"\"\n",
    "    tmp = []\n",
    "    # Создаем сетку\n",
    "    T, x_grid, t_grid = make_grid(x_min, x_max, t_min, \n",
    "                                   t_max, h, tau, fictive_x=True)\n",
    "    # Для каждой компоненты\n",
    "    for i in range(len(timezero_funcs)):\n",
    "        # Считаем значения\n",
    "        func_t, func_x, a_curr = timezero_funcs[i], xzero_funcs[i], np.float64(a[i])\n",
    "        # Начальные условия\n",
    "        T[:,0] = func_t(x_grid)\n",
    "        # Граничные условия\n",
    "        T[-1,:] = func_x(t_grid)\n",
    "        # Приводим все к double\n",
    "        T = T.astype('double')\n",
    "        # Высчитываем sigma\n",
    "        sigma = np.double(a_curr*tau/h)\n",
    "        # Вызываем калькулятор\n",
    "        tmp.append(kernel(T, sigma).T)\n",
    "    return tmp, x_grid[1:-1], t_grid"
   ]
  },
  {
   "cell_type": "code",
   "execution_count": null,
   "metadata": {
    "ExecuteTime": {
     "start_time": "2019-05-13T10:53:00.463Z"
    },
    "pycharm": {
     "is_executing": false
    }
   },
   "outputs": [],
   "source": [
    "def plot_3d(x_grid, t_grid, u_i, position, label='u_1', filename='no_name'):\n",
    "    from mpl_toolkits import mplot3d\n",
    "    fig = plt.figure(figsize=(16, 10))\n",
    "    ax = plt.axes(projection='3d')\n",
    "    xx, yy = np.meshgrid(x_grid, t_grid)\n",
    "    ax.plot_surface(xx, yy, u_i.T)\n",
    "    ax.view_init(*position)\n",
    "    ax.set_title(r'$ {} $'.format(label))\n",
    "    ax.set_xlabel(r'$ x $')\n",
    "    ax.set_ylabel(r'$ t $')\n",
    "    fig.savefig(filename)\n",
    "    fig.show()"
   ]
  },
  {
   "cell_type": "markdown",
   "metadata": {},
   "source": [
    "# DASHA"
   ]
  },
  {
   "cell_type": "code",
   "execution_count": null,
   "metadata": {
    "ExecuteTime": {
     "start_time": "2019-05-13T10:53:00.470Z"
    }
   },
   "outputs": [],
   "source": [
    "from numba import jit\n",
    "    \n",
    "@jit(nopython=True)\n",
    "def dasha_kernel(T, sigma):\n",
    "    \"\"\"\n",
    "    Предполагается, что граничные условия УЖЕ заданы\n",
    "    \"\"\"\n",
    "    M, N = T.shape[0], T.shape[1]\n",
    "    for n in range(0, N-1):\n",
    "        # Решим систему и запишем результаты в следующую итерацию времени\n",
    "        #count_current_x_layer(T, n, sigma)\n",
    "        for m in range(M-2, -1, -1):\n",
    "            T[m, n+1] = (0.5-sigma)*T[m+1, n] + (0.5+sigma)*T[m-1, n]\n",
    "    # Выкинем фиктивные узлы в возвращаемом значении\n",
    "    return T[1:-1, :]\n",
    "\n",
    "\n",
    "h, tau = 10**-3, 10**-3/4\n",
    "\n",
    "\n",
    "timezero_funcs = [sp.lambdify(x, I[i]) for i in range(Omega.shape[0])]\n",
    "'''\n",
    "xzero_funcs = [\n",
    "    lambda t: np.sin(10*t)+timezero_funcs[0](1),\n",
    "    lambda t: np.sin(10*t)+timezero_funcs[1](1),\n",
    "    lambda t: np.sin(10*t)+timezero_funcs[2](1)\n",
    "]\n",
    "'''\n",
    "#'''\n",
    "xzero_funcs = [\n",
    "    lambda t: timezero_funcs[0](1),\n",
    "    lambda t: timezero_funcs[1](1),\n",
    "    lambda t: timezero_funcs[2](1),\n",
    "]\n",
    "#'''\n",
    "\n",
    "tmp = calculate_all(dasha_kernel, timezero_funcs, xzero_funcs, \n",
    "                    lambdas, h, tau, t_max=1)\n",
    "T, x_grid, t_grid = np.array(tmp[0]), tmp[1], tmp[2]\n",
    "del tmp\n",
    "\n",
    "\n",
    "# Вернемся обратно от инвариантов Римана\n",
    "omega_rev = np.array(Omega**-1).astype(np.float64)\n",
    "solution = T.T.dot(omega_rev)\n",
    "del omega_rev\n",
    "\n",
    "\n",
    "u_1_dasha = solution[:,:,0]\n",
    "u_2_dasha = solution[:,:,1]\n",
    "u_3_dasha = solution[:,:,2]\n",
    "\n",
    "\n",
    "# Анимация первой координаты\n",
    "anim1 = AnimationHelper(u_1_dasha, x_grid=x_grid, t_grid=t_grid, ylabel='u_1')\n",
    "anim1.make_animation().save_as_file('dasha_u1.mp4')\n",
    "\n",
    "# Анимация второй координаты\n",
    "anim2 = AnimationHelper(u_2_dasha, x_grid=x_grid, t_grid=t_grid, ylabel='u_2')\n",
    "anim2.make_animation().save_as_file('dasha_u2.mp4')\n",
    "\n",
    "# Анимация третьей координаты\n",
    "anim3 = AnimationHelper(u_3_dasha, x_grid=x_grid, t_grid=t_grid, ylabel='u_3')\n",
    "anim3.make_animation().save_as_file('dasha_u3.mp4')\n",
    "\n",
    "\n",
    "plot_3d(x_grid, t_grid, solution[:,:,0], (20, 130), label='u_1', filename='dasha_u1.pdf')\n",
    "\n",
    "plot_3d(x_grid, t_grid, solution[:,:,1], (40, -20), label='u_2', filename='dasha_u2.pdf')\n",
    "\n",
    "plot_3d(x_grid, t_grid, solution[:,:,2], (60, -30), label='u_3', filename='dasha_u3.pdf')\n",
    "\n",
    "\n",
    "timezero_funcs = [sp.lambdify(x, I[i]) for i in range(Omega.shape[0])]\n",
    "# Наглядные синусы\n",
    "'''\n",
    "xzero_funcs = [\n",
    "    lambda t: np.sin(10*t)+timezero_funcs[0](1),\n",
    "    lambda t: np.sin(10*t)+timezero_funcs[1](1),\n",
    "    lambda t: np.sin(10*t)+timezero_funcs[2](1)\n",
    "]\n",
    "'''\n",
    "# Не очень наглядно: просто константа\n",
    "'''\n",
    "xzero_funcs = [\n",
    "    lambda t: timezero_funcs[0](1),\n",
    "    lambda t: timezero_funcs[1](1),\n",
    "    lambda t: timezero_funcs[2](1),\n",
    "]\n",
    "'''\n",
    "# Продолжение по непрерывности. С ним и будем сравнивать\n",
    "#xzero_funcs = [sp.lambdify(t, x_f) for x_f in x_nepr_border]\n",
    "xzero_funcs = [sp.lambdify(t, func1.subs(x, X_MAX)) for func1 in exact_sol]\n",
    "\n",
    "\n",
    "@jit(parallel=True)\n",
    "def count_errors(exact_sol_func, kernel, \n",
    "                         tau, a,\n",
    "                         h_range, sigma=0.5, \n",
    "                         x_min=0, x_max=1, t_min=0, t_max=1):\n",
    "    #a, exact_sol_func, timezero_func, xzero_func, h_range = lambdas[0], exact_sol_funcs[0], timezero_funcs[0], xzero_funcs[0], np.linspace(10**(-4), 10**(-3), 5)\n",
    "    sigma = 0.5\n",
    "    tmp = []\n",
    "    for h in h_range:\n",
    "        # Пересчитаем tau через sigma\n",
    "        # sigma = np.double(a_curr*tau/h)\n",
    "        tau = sigma*h/abs(a)\n",
    "        print('tau =', tau)\n",
    "        # Создаем сетку для каждого h\n",
    "        T, x_grid, t_grid = make_grid(x_min, x_max, t_min, \n",
    "                                   t_max, h, tau, fictive_x=True)\n",
    "        print('Created T...')\n",
    "        # Создаем сетку для подсчета точного решения\n",
    "        tt, xx = np.meshgrid(t_grid, x_grid)\n",
    "        exact = exact_sol_func(tt, xx)\n",
    "        print('Calculated EXACT...')\n",
    "        # Граничные условия СПРАВА!!!\n",
    "        # А вот начальные условия -- на t_min\n",
    "        func_t, func_x = lambda t: exact_sol_func(t, x_max), lambda x: exact_sol_func(t_min, x)\n",
    "        # Начальные условия\n",
    "        T[:,0] = func_t(x_grid)\n",
    "        # Граничные условия\n",
    "        T[-1,:] = func_x(t_grid)\n",
    "        print('Calculated inital values...')\n",
    "        # Приводим все к double\n",
    "        #T = T.astype('double')\n",
    "        approx = kernel(T, sigma).T\n",
    "        print('Calculated approx solution...')\n",
    "        tmp.append(approx - exact[1:-1,:].T)\n",
    "    return tmp\n",
    "\t\n",
    "\n",
    "tau = 10**(-2)/2\n",
    "\n",
    "\n",
    "# Все будем судить по 1-ой координате\n",
    "N_coord = 0\n",
    "h_range = np.linspace(10**(-2), 10**(-1), 30)\n",
    "different_calcs = count_errors(jit(exact_sol_funcs[N_coord]), dasha_kernel,\n",
    "                                       tau, lambdas[N_coord],\n",
    "                                       h_range,\n",
    "                                       sigma=0.5)\n",
    "\t\t\t\t\t\t\t\t\t   \n",
    "\t\t\t\t\t\t\t\t\t   "
   ]
  },
  {
   "cell_type": "code",
   "execution_count": null,
   "metadata": {
    "ExecuteTime": {
     "start_time": "2019-05-13T10:53:00.473Z"
    }
   },
   "outputs": [],
   "source": [
    "plot_3d(x_grid, t_grid, solution[:,:,0], (20, 130), label='u_1', filename='dasha_u1.pdf')"
   ]
  },
  {
   "cell_type": "code",
   "execution_count": null,
   "metadata": {
    "ExecuteTime": {
     "start_time": "2019-05-13T10:53:00.478Z"
    }
   },
   "outputs": [],
   "source": [
    "plot_3d(x_grid, t_grid, solution[:,:,1], (40, -20), label='u_2', filename='dasha_u2.pdf')"
   ]
  },
  {
   "cell_type": "code",
   "execution_count": null,
   "metadata": {
    "ExecuteTime": {
     "start_time": "2019-05-13T10:53:00.482Z"
    }
   },
   "outputs": [],
   "source": [
    "plot_3d(x_grid, t_grid, solution[:,:,2], (60, -30), label='u_3', filename='dasha_u3.pdf')"
   ]
  },
  {
   "cell_type": "code",
   "execution_count": null,
   "metadata": {
    "ExecuteTime": {
     "start_time": "2019-05-13T10:53:00.486Z"
    }
   },
   "outputs": [],
   "source": [
    "errors = np.array([np.linalg.norm(different_calcs[i].astype('float')) for i in range(len(different_calcs))])\n",
    "\n",
    "\n",
    "\n",
    "y_plot = np.log(errors)\n",
    "x_plot = np.log(h_range)\n",
    "\n",
    "plt.scatter(x_plot, y_plot)\n",
    "N_forfit_left, N_forfit_right = int(len(x_plot)*0), int(len(x_plot)*1)\n",
    "x_forfit, y_forfit = x_plot[N_forfit_left:N_forfit_right], y_plot[N_forfit_left:N_forfit_right]\n",
    "plt.scatter(x_forfit, y_forfit, label='Сырые данные')\n",
    "\n",
    "\n",
    "from scipy.stats import linregress\n",
    "slope, intercept, r_value, p_value, std_err = linregress(x_forfit, y_forfit)\n",
    "x_plot_forfit = np.linspace(min(x_forfit), max(x_forfit), 10**3)\n",
    "y_plot_forfit = slope*x_plot_forfit + intercept\n",
    "plt.plot(x_plot_forfit, y_plot_forfit, label='МНК, $k={}$'.format(slope.round(2)))\n",
    "\n",
    "plt.grid()\n",
    "plt.legend()\n",
    "plt.xlabel(r'$\\log h$')\n",
    "plt.ylabel(r'$\\log e$')\n",
    "plt.title(r'Зависимость $\\log(error)$ от $\\log(h)$')\n",
    "plt.savefig('errors_dasha.pdf')\n",
    "plt.show()\n",
    "\n",
    "\n",
    "\n",
    "\n",
    "display(\n",
    "    Markdown(\n",
    "        'Апостериорный порядок сходмиости $k={}$ (коэфф. корреляции $r={}$)'.format(\n",
    "            abs(slope.round(2)), abs(r_value.round(4))\n",
    "        )\n",
    "    )\n",
    ")"
   ]
  },
  {
   "cell_type": "markdown",
   "metadata": {
    "pycharm": {}
   },
   "source": [
    "## Решение центральной схемой второго порядка"
   ]
  },
  {
   "cell_type": "markdown",
   "metadata": {
    "pycharm": {}
   },
   "source": [
    "Данная схема преобразуется к виду:\n",
    "\\begin{equation*}\n",
    "    u _ { n } ^ { n + 1 } = u _ { m } ^ { n } - \\frac { a \\tau } { 2 h } \\left( u _ { m + 1 } ^ { n } - u _ { m - 1 } ^ { n } \\right) + \\frac { a ^ { 2 } \\tau ^ { 2 } } { 2 h ^ { 2 } } \\left( u _ { m + 1 } ^ { n } - 2 u _ { m } ^ { n } + u _ { m - 1 } ^ { n } \\right)\n",
    "\\end{equation*}\n",
    "Мы введем два фиктивных узла по сетке $x$ (слева и справа). На каждой итерации по $n$ (время) значения в фиктивных узлах будем пересчитывать через линейную интерполяцию по двум предыдущим точкам (поскольку $h$ мало, это должно хватить).\n",
    "\n",
    "### Первое дифференциальное приближение\n",
    "Перепишем схему в виде:\n",
    "\n",
    "\\begin{gather*}\n",
    "    \\cfrac{u_{m+1}^{n+1} - u_m^n}{\\tau} + a \\cfrac{u_{m+1}^n - u_{m-1}^n}{2h} - \\cfrac{a^2 \\tau}{2} \\cfrac{u_{m+1}^n - 2 u_m^n + u_{m-1}^n}{h^2} = 0 \\\\\n",
    "    u_m^{n+1} = u_m^n + \\tau u_t + \\cfrac{1}{2} \\tau^2 u_{tt} + \\cfrac{1}{6} \\tau^3 u_{ttt} \\\\\n",
    "    u_{m-1}^n = u_m^n - h u_x + \\cfrac{1}{2} h^2 u_{xx} - \\cfrac{1}{6} h^3 u_{xxx} \\\\\n",
    "    u_{m+1}^n = u_m^n + h u_x + \\cfrac{1}{2} h^2 u_{xx} + \\cfrac{1}{6} h^3 u_{xxx} \\\\\n",
    "\\end{gather*}\n",
    "Невязка равна: $ \\psi_n = (u_t + a u_x)_n - \\left[ \\cfrac{1}{\\tau} ( u_m^{n+1} u_m^n) + \\cfrac{a}{2h} (u_{m+1}^n - u_{m-1}^n) - \\cfrac{a^2 \\tau}{2h^2} (u_{m+1}^{n} - 2 u_{m}^{n} + u_{m-1}^{n}) \\right] $\n",
    "\n",
    "$ \\phi_{n} = -\\cfrac{\\tau}{2} u_{tt} + \\cfrac{a^2 \\tau}{2} u_{xx} - \\cfrac{\\tau^2}{6} u_{ttt} - \\cfrac{ah^2}{6} u_{xxx} $\n",
    "С учетом того, что $ u_{tt}a^2 = u_{xx} $ и $ u_{ttt} = -a^3 u_{xxx} $ , имеем $ \\psi_{n} = \\cfrac{a}{6} (\\tau^2 a^2 - h^2 ) u_{xxx} $.\n",
    "\n",
    "**ПДП**:  $ \\boxed{u_{t} = \\cfrac{a}{6} (\\tau^2 a^2 -h^2) u_{xxx} - a u_{x} }$ .\n",
    "\n",
    "Для заданной схемы дисперсионное соотношение имеет вид:\n",
    "\n",
    "\\begin{equation}\n",
    "    \\lambda=\\frac{1}{\\tau} \\ln \\left(1-i \\sigma \\sin k h-2 \\sigma^{2} \\sin ^{2} \\frac{k h}{2}\\right)\n",
    "\\end{equation}\n",
    "для длинноволновых гармоник с $ kh \\ll 1 $ разложение вплоть до членов третьего порядка по этой величине дает\n",
    "\n",
    "\\begin{equation}\n",
    "    \\lambda(\\tau, h, k) \\approx-i k a+i k a \\frac{k^{2} h^{2}}{6}\\left(1-3 \\sigma^{2}\\right).\n",
    "\\end{equation}\n",
    "\n",
    "Из полученных соотношений делаем вывод, что решения разностного уравнения второго порядка аппроксимации имеют вид:\n",
    "\n",
    "$ y\\left(t_{n}, x_{m}\\right)=\\exp \\left(i k x_{m}+\\lambda(\\tau, h, k) t_{n}\\right)=\\exp \\left(i k\\left\\{x_{m}-a\\left[1-\\frac{k^{2} h^{2}}{6}\\left(1-3 \\sigma^{2}\\right)\\right] t_{n}\\right\\}\\right)= \\exp \\left(i k\\left\\{x_{m}-a\\left[1+A_{\\mathrm{k}}(k)\\right] t_{n}\\right\\}\\right) $\n",
    "\n",
    "где введено обозначение $ A_{k}=-k^{2} h^{2}\\left(1-3 \\sigma^{2}\\right) / 6 $.\n",
    "\n",
    "Последнее выражение означает, что гармоники со временем не затухают, так как не появляется множителя с действительными отрицательным показателем экспоненты, численное решение не сглаживается со временем. Начальный волновой пакет и определяемый им начальный профиль лишь размываются с течением времени. \n",
    "\n",
    "_Это означает, что в данной схеме преобладает дисперсионная ошибка_.\n",
    "### Монотонность\n",
    "Наша схема является линейной и имеет второй порядок аппроксимации. Согласно теореме Годунова, _схема не является монотонной_."
   ]
  },
  {
   "cell_type": "code",
   "execution_count": null,
   "metadata": {
    "ExecuteTime": {
     "start_time": "2019-05-13T10:53:00.490Z"
    },
    "pycharm": {}
   },
   "outputs": [],
   "source": [
    "from numba import jit\n",
    "@jit(nopython=True, parallel=True)\n",
    "def laks_kernel(T, sigma):\n",
    "    \"\"\"\n",
    "    Основной калькулятор. Предполагается, что в `T` уже включены начальные данные.\n",
    "    НАЧАЛЬНЫЕ УСЛОВИЯ ЗАДАНЫ СПРАВА!!!\n",
    "    \"\"\"\n",
    "    M, N = T.shape[0], T.shape[1]\n",
    "    for n in range(0, N-1):\n",
    "        for m in range(1, M-1):\n",
    "            T[m, n+1] = T[m, n] - sigma/2*(T[m+1, n] - T[m-1, n]) \\\n",
    "            + sigma**2/2* (T[m+1, n] - 2*T[m, n] + T[m-1, n])\n",
    "        # Линейная экстраполяция слева\n",
    "        T[0, n+1] = 2*T[1, n+1] - T[2, n+1]\n",
    "        # А вот справа у нас уже есть начальные условия\n",
    "        # Линейная экстраполяция справа\n",
    "        #T[M-1, n+1] = 2*T[M-2, n+1] - T[M-3, n+1]\n",
    "    return T[1:-1,:]"
   ]
  },
  {
   "cell_type": "code",
   "execution_count": null,
   "metadata": {
    "ExecuteTime": {
     "start_time": "2019-05-13T10:53:00.493Z"
    },
    "pycharm": {}
   },
   "outputs": [],
   "source": [
    "h, tau = 10**-3, 10**-3/4"
   ]
  },
  {
   "cell_type": "code",
   "execution_count": null,
   "metadata": {
    "ExecuteTime": {
     "start_time": "2019-05-13T10:53:00.497Z"
    },
    "pycharm": {},
    "scrolled": true
   },
   "outputs": [],
   "source": [
    "timezero_funcs = [sp.lambdify(x, I[i]) for i in range(Omega.shape[0])]\n",
    "# Наглядные синусы\n",
    "'''\n",
    "xzero_funcs = [\n",
    "    lambda t: np.sin(10*t)+timezero_funcs[0](1),\n",
    "    lambda t: np.sin(10*t)+timezero_funcs[1](1),\n",
    "    lambda t: np.sin(10*t)+timezero_funcs[2](1)\n",
    "]\n",
    "'''\n",
    "# Не очень наглядно: просто константа\n",
    "#'''\n",
    "xzero_funcs = [\n",
    "    lambda t: timezero_funcs[0](1),\n",
    "    lambda t: timezero_funcs[1](1),\n",
    "    lambda t: timezero_funcs[2](1),\n",
    "]\n",
    "#'''\n",
    "# Продолжение по непрерывности. С ним и будем сравнивать\n",
    "#xzero_funcs = [sp.lambdify(t, x_f) for x_f in x_nepr_border]"
   ]
  },
  {
   "cell_type": "code",
   "execution_count": null,
   "metadata": {
    "ExecuteTime": {
     "start_time": "2019-05-13T10:53:00.502Z"
    },
    "pycharm": {},
    "scrolled": true
   },
   "outputs": [],
   "source": [
    "tmp = calculate_all(laks_kernel, timezero_funcs, xzero_funcs, \n",
    "                    lambdas, h, tau, \n",
    "                    x_min=X_MIN, x_max=X_MAX, t_min=T_MIN, t_max=T_MAX)\n",
    "T, x_grid, t_grid = np.array(tmp[0]), tmp[1], tmp[2]"
   ]
  },
  {
   "cell_type": "code",
   "execution_count": null,
   "metadata": {
    "ExecuteTime": {
     "start_time": "2019-05-13T10:53:00.506Z"
    },
    "pycharm": {}
   },
   "outputs": [],
   "source": [
    "# Вернемся обратно от инвариантов Римана\n",
    "omega_rev = np.array(Omega**-1).astype(np.float64)\n",
    "solution = T.T.dot(omega_rev)"
   ]
  },
  {
   "cell_type": "code",
   "execution_count": null,
   "metadata": {
    "ExecuteTime": {
     "start_time": "2019-05-13T10:53:00.510Z"
    },
    "pycharm": {}
   },
   "outputs": [],
   "source": [
    "u_1_laks = solution[:,:,0]\n",
    "u_2_laks = solution[:,:,1]\n",
    "u_3_laks = solution[:,:,2]"
   ]
  },
  {
   "cell_type": "code",
   "execution_count": null,
   "metadata": {
    "ExecuteTime": {
     "start_time": "2019-05-13T10:53:00.515Z"
    },
    "pycharm": {}
   },
   "outputs": [],
   "source": [
    "# Анимация первой координаты\n",
    "anim1 = AnimationHelper(u_1_laks, x_grid=x_grid, t_grid=t_grid, ylabel='u_1')\n",
    "anim1.make_animation()\n",
    "anim1.save_as_file('laks_u1.mp4')\n",
    "\n",
    "# Анимация второй координаты\n",
    "anim2 = AnimationHelper(u_2_laks, x_grid=x_grid, t_grid=t_grid, ylabel='u_2')\n",
    "anim2.make_animation().save_as_file('laks_u2.mp4')\n",
    "\n",
    "# Анимация третьей координаты\n",
    "anim3 = AnimationHelper(u_3_laks, x_grid=x_grid, t_grid=t_grid, ylabel='u_3')\n",
    "anim3.make_animation().save_as_file('laks_u3.mp4')"
   ]
  },
  {
   "cell_type": "markdown",
   "metadata": {},
   "source": [
    "Для наглядности построим график еще 3D график "
   ]
  },
  {
   "cell_type": "code",
   "execution_count": null,
   "metadata": {
    "ExecuteTime": {
     "start_time": "2019-05-13T10:53:00.519Z"
    },
    "scrolled": true
   },
   "outputs": [],
   "source": [
    "plot_3d(x_grid, t_grid, solution[:,:,0], (30, 110), label='u_1', filename='laks_u1.pdf')\n",
    "#plot_3d(x_grid, t_grid, solution[:,:,0], (30, -10), label='u_1', filename='laks_u1.pdf')"
   ]
  },
  {
   "cell_type": "code",
   "execution_count": null,
   "metadata": {
    "ExecuteTime": {
     "start_time": "2019-05-13T10:53:00.525Z"
    }
   },
   "outputs": [],
   "source": [
    "plot_3d(x_grid, t_grid, solution[:,:,1], (40, -20), label='u_2', filename='laks_u2.pdf')"
   ]
  },
  {
   "cell_type": "code",
   "execution_count": null,
   "metadata": {
    "ExecuteTime": {
     "start_time": "2019-05-13T10:53:00.529Z"
    },
    "scrolled": true
   },
   "outputs": [],
   "source": [
    "plot_3d(x_grid, t_grid, solution[:,:,2], (60, -30), label='u_3', filename='laks_u3.pdf')"
   ]
  },
  {
   "cell_type": "markdown",
   "metadata": {},
   "source": [
    "Для определения порядка аппроксимации воспользуемся теми граничными условиями, которые определяют функцию из класса $C^1$. Они были выписаны выше, при теоретическом анализе схемы.\n",
    "\n",
    "Мы будем считать ошибку по инвариантам Римана (как разность теоретического решения и численного)."
   ]
  },
  {
   "cell_type": "code",
   "execution_count": null,
   "metadata": {
    "ExecuteTime": {
     "start_time": "2019-05-13T10:53:00.534Z"
    }
   },
   "outputs": [],
   "source": [
    "timezero_funcs = [sp.lambdify(x, I[i]) for i in range(Omega.shape[0])]\n",
    "# Наглядные синусы\n",
    "'''\n",
    "xzero_funcs = [\n",
    "    lambda t: np.sin(10*t)+timezero_funcs[0](1),\n",
    "    lambda t: np.sin(10*t)+timezero_funcs[1](1),\n",
    "    lambda t: np.sin(10*t)+timezero_funcs[2](1)\n",
    "]\n",
    "'''\n",
    "# Не очень наглядно: просто константа\n",
    "'''\n",
    "xzero_funcs = [\n",
    "    lambda t: timezero_funcs[0](1),\n",
    "    lambda t: timezero_funcs[1](1),\n",
    "    lambda t: timezero_funcs[2](1),\n",
    "]\n",
    "'''\n",
    "# Продолжение по непрерывности. С ним и будем сравнивать\n",
    "xzero_funcs = [sp.lambdify(t, x_f) for x_f in x_nepr_border]\n",
    "\n",
    "tmp = calculate_all(laks_kernel, timezero_funcs, xzero_funcs, \n",
    "                    lambdas, h, tau, \n",
    "                    x_min=X_MIN, x_max=X_MAX, t_min=T_MIN, t_max=T_MAX)\n",
    "T, x_grid, t_grid = np.array(tmp[0]), tmp[1], tmp[2]\n",
    "\n",
    "solution_nepr = T.T"
   ]
  },
  {
   "cell_type": "code",
   "execution_count": null,
   "metadata": {
    "ExecuteTime": {
     "start_time": "2019-05-13T10:53:00.540Z"
    }
   },
   "outputs": [],
   "source": [
    "@jit(parallel=True)\n",
    "def count_errors(exact_sol_func, kernel, \n",
    "                         tau, a,\n",
    "                         h_range, sigma=0.5, \n",
    "                         x_min=0, x_max=1, t_min=0, t_max=1):\n",
    "    #a, exact_sol_func, timezero_func, xzero_func, h_range = lambdas[0], exact_sol_funcs[0], timezero_funcs[0], xzero_funcs[0], np.linspace(10**(-4), 10**(-3), 5)\n",
    "    sigma = 0.5\n",
    "    tmp = []\n",
    "    for h in h_range:\n",
    "        # Пересчитаем tau через sigma\n",
    "        # sigma = np.double(a_curr*tau/h)\n",
    "        tau = sigma*h/abs(a)\n",
    "        print('tau =', tau)\n",
    "        # Создаем сетку для каждого h\n",
    "        T, x_grid, t_grid = make_grid(x_min, x_max, t_min, \n",
    "                                   t_max, h, tau, fictive_x=True)\n",
    "        print('Created T...')\n",
    "        # Создаем сетку для подсчета точного решения\n",
    "        tt, xx = np.meshgrid(t_grid, x_grid)\n",
    "        exact = exact_sol_func(tt, xx)\n",
    "        print('Calculated EXACT...')\n",
    "        # Граничные условия СПРАВА!!!\n",
    "        # А вот начальные условия -- на t_min\n",
    "        func_t, func_x = lambda t: exact_sol_func(t, x_max), lambda x: exact_sol_func(t_min, x)\n",
    "        # Начальные условия\n",
    "        T[:,0] = func_t(x_grid)\n",
    "        # Граничные условия\n",
    "        T[-1,:] = func_x(t_grid)\n",
    "        print('Calculated inital values...')\n",
    "        # Приводим все к double\n",
    "        #T = T.astype('double')\n",
    "        approx = kernel(T, sigma).T\n",
    "        print('Calculated approx solution...')\n",
    "        tmp.append(approx - exact[1:-1,:].T)\n",
    "    return tmp"
   ]
  },
  {
   "cell_type": "code",
   "execution_count": null,
   "metadata": {
    "ExecuteTime": {
     "start_time": "2019-05-13T10:53:00.545Z"
    }
   },
   "outputs": [],
   "source": [
    "tau = 10**(-2)/2"
   ]
  },
  {
   "cell_type": "code",
   "execution_count": null,
   "metadata": {
    "ExecuteTime": {
     "start_time": "2019-05-13T10:53:00.549Z"
    },
    "scrolled": true
   },
   "outputs": [],
   "source": [
    "# Все будем судить по 1-ой координате\n",
    "N_coord = 0\n",
    "h_range = np.linspace(10**(-2), 10**(-1), 30)\n",
    "different_calcs = count_errors(jit(exact_sol_funcs[N_coord]), laks_kernel,\n",
    "                                       tau, lambdas[N_coord],\n",
    "                                       h_range,\n",
    "                                       sigma=0.5)"
   ]
  },
  {
   "cell_type": "code",
   "execution_count": null,
   "metadata": {
    "ExecuteTime": {
     "start_time": "2019-05-13T10:53:00.553Z"
    }
   },
   "outputs": [],
   "source": [
    "errors = np.array([np.linalg.norm(different_calcs[i].astype('float')) for i in range(len(different_calcs))])"
   ]
  },
  {
   "cell_type": "code",
   "execution_count": null,
   "metadata": {
    "ExecuteTime": {
     "start_time": "2019-05-13T10:53:00.557Z"
    }
   },
   "outputs": [],
   "source": [
    "y_plot = np.log(errors)\n",
    "x_plot = np.log(h_range)\n",
    "\n",
    "plt.scatter(x_plot, y_plot)\n",
    "N_forfit=int(len(x_plot)*1)\n",
    "x_forfit, y_forfit = x_plot[:N_forfit], y_plot[:N_forfit]\n",
    "plt.scatter(x_forfit, y_forfit, label='Сырые данные')\n",
    "\n",
    "# Нанесем прямую МНК\n",
    "from scipy.stats import linregress\n",
    "slope, intercept, r_value, p_value, std_err = linregress(x_forfit, y_forfit)\n",
    "x_plot_forfit = np.linspace(min(x_forfit), max(x_forfit), 10**3)\n",
    "y_plot_forfit = slope*x_plot_forfit + intercept\n",
    "plt.plot(x_plot_forfit, y_plot_forfit, label=r'МНК, $k={}$'.format(slope.round(2)))\n",
    "\n",
    "plt.grid()\n",
    "plt.legend()\n",
    "plt.xlabel(r'$\\log h$')\n",
    "plt.ylabel(r'$\\log e$')\n",
    "plt.title(r'Зависимость $\\log(error)$ от $\\log(h)$')\n",
    "plt.savefig('errors_laks.pdf')\n",
    "plt.show()"
   ]
  },
  {
   "cell_type": "code",
   "execution_count": null,
   "metadata": {
    "ExecuteTime": {
     "start_time": "2019-05-13T10:53:00.560Z"
    }
   },
   "outputs": [],
   "source": [
    "display(\n",
    "    Markdown(\n",
    "        'Апостериорный порядок сходмиости $k={}$ (коэфф. корреляции $r={}$)'.format(\n",
    "            abs(slope.round(2)), abs(r_value.round(4))\n",
    "        )\n",
    "    )\n",
    ")"
   ]
  }
 ],
 "metadata": {
  "kernelspec": {
   "display_name": "Python 3",
   "language": "python",
   "name": "python3"
  },
  "language_info": {
   "codemirror_mode": {
    "name": "ipython",
    "version": 3
   },
   "file_extension": ".py",
   "mimetype": "text/x-python",
   "name": "python",
   "nbconvert_exporter": "python",
   "pygments_lexer": "ipython3",
   "version": "3.6.8"
  },
  "latex_envs": {
   "LaTeX_envs_menu_present": true,
   "autoclose": false,
   "autocomplete": true,
   "bibliofile": "biblio.bib",
   "cite_by": "apalike",
   "current_citInitial": 1,
   "eqLabelWithNumbers": true,
   "eqNumInitial": 1,
   "hotkeys": {
    "equation": "Ctrl-E",
    "itemize": "Ctrl-I"
   },
   "labels_anchors": false,
   "latex_user_defs": false,
   "report_style_numbering": false,
   "user_envs_cfg": false
  },
  "varInspector": {
   "cols": {
    "lenName": 16,
    "lenType": 16,
    "lenVar": 40
   },
   "kernels_config": {
    "python": {
     "delete_cmd_postfix": "",
     "delete_cmd_prefix": "del ",
     "library": "var_list.py",
     "varRefreshCmd": "print(var_dic_list())"
    },
    "r": {
     "delete_cmd_postfix": ") ",
     "delete_cmd_prefix": "rm(",
     "library": "var_list.r",
     "varRefreshCmd": "cat(var_dic_list()) "
    }
   },
   "oldHeight": 460.79999999999995,
   "position": {
    "height": "40px",
    "left": "1151.2px",
    "right": "20px",
    "top": "120px",
    "width": "350px"
   },
   "types_to_exclude": [
    "module",
    "function",
    "builtin_function_or_method",
    "instance",
    "_Feature"
   ],
   "varInspector_section_display": "none",
   "window_display": false
  }
 },
 "nbformat": 4,
 "nbformat_minor": 2
}
