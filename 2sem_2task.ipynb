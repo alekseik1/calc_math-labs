{
 "cells": [
  {
   "cell_type": "markdown",
   "metadata": {
    "pycharm": {}
   },
   "source": [
    "# Вариант 9\n",
    "\n",
    "Рассматривается система линейных гиперболических уравнений:\n",
    "\n",
    "\\begin{gather*}\n",
    "    \\frac { \\partial \\mathbf { u } } { \\partial t } + \\mathbf { A } \\frac { \\partial \\mathbf { u } } { \\partial x } = \\mathbf { b } ( x ) , ~ 0 \\leqslant x \\leqslant 1, ~ 0 \\leqslant t \\leqslant 1, ~~ \n",
    "    \\mathbf { u } ( x , 0 ) = \\left( \\begin{array} { c } { 2 x - x ^ { 3 } } \\\\ { x ^ { 3 } } \\\\ { x ^ { 2 } + 1 } \\end{array} \\right) \\\\\n",
    "    \\mathbf { A } = \\left( \\begin{array} { c c c } { - 21 / 2 } & { 27 / 2 } & { 3 / 2 } \\\\ { - 7 } & { 9 } & { 1 } \\\\ { 13 / 2 } & { - 19 / 2 } & { - 3 / 2 } \\end{array} \\right), ~~ \n",
    "    \\mathbf { b } ( x ) = \\left( \\begin{array} { l } { 0 } \\\\ { 0 } \\\\ { 0 } \\end{array} \\right)\n",
    "\\end{gather*}\n",
    "\n",
    "Привести систему к характеристическому виду, предложить корректную постановку граничных условий.\n",
    "\n",
    "Решить численно систему уравенний с использованием двух указанных схем.\n",
    "Для каждой из схем выписать первое дифференциальное приближение (ПДП), \n",
    "определить, диссипативная или дисперсионная ошибка преобладает.\n",
    "Монотонна ли схема? Оценить апостериорно порядок сходимости каждой схемы.\n",
    "\n",
    "### Разностные схемы\n",
    "Схемы приводятся для модельного уравнения $ \\frac { \\partial u } { \\partial t } + a \\frac { \\partial u } { \\partial x } = 0 , ~ a = \\text { const } > 0 $ на сетке $ x _ { m } = m h , ~ m = 0 \\dots M , ~ M h = 1 ; ~ t ^ { n } = n \\tau , ~ n = 0 \\dots N, ~ N \\tau = 1 $. При необходимости преобразовать схемы для случая $ a = \\text{const} < 0 $.\n",
    "\n",
    "1) \"Неявный\" правый уголок (схема бегущего счета)\n",
    "\\begin{equation}\n",
    "    \\frac { u _ { m } ^ { n + 1 } - u _ { m } ^ { n } } { \\tau } + a \\frac { u _ { m + 1 } ^ { n + 1 } - u _ { m } ^ { n + 1 } } { h } = 0\n",
    "\\end{equation}\n",
    "\n",
    "2) Центральная схема второго порядка (Лакса-Вендроффа, МакКормака)\n",
    "\\begin{equation}\n",
    "    \\frac { u _ { m } ^ { n + 1 } - u _ { m } ^ { n } } { \\tau } + a \\frac { u _ { m + 1 } ^ { n } - u _ { m - 1 } ^ { n } } { 2 h } = \\frac { a ^ { 2 } \\tau } { 2 } \\frac { u _ { m + 1 } ^ { n } - 2 u _ { m } ^ { n } + u _ { m - 1 } ^ { n } } { h ^ { 2 } }\n",
    "\\end{equation}"
   ]
  },
  {
   "cell_type": "markdown",
   "metadata": {
    "pycharm": {}
   },
   "source": [
    "## Анализ системы\n",
    "Приведем систему к характеристическому виду. Для этого найдем левые собственные вектора (см. код ниже), затем приведем систему к каноническому виду. Это реализовано ниже."
   ]
  },
  {
   "cell_type": "code",
   "execution_count": 1,
   "metadata": {
    "ExecuteTime": {
     "end_time": "2019-05-05T14:16:16.985286Z",
     "start_time": "2019-05-05T14:16:16.285190Z"
    },
    "code_folding": [],
    "pycharm": {
     "is_executing": false
    }
   },
   "outputs": [],
   "source": [
    "# Подготовительный этап\n",
    "from IPython.display import display, Math, Latex, Markdown\n",
    "import pprint\n",
    "import sympy as sp\n",
    "from sympy import Matrix, Rational, latex, symbols\n",
    "import numpy as np\n",
    "from scipy.linalg import eig\n",
    "x, u, t = sp.symbols('x u t')"
   ]
  },
  {
   "cell_type": "code",
   "execution_count": 2,
   "metadata": {
    "ExecuteTime": {
     "end_time": "2019-05-05T14:16:16.993246Z",
     "start_time": "2019-05-05T14:16:16.987188Z"
    },
    "pycharm": {
     "is_executing": false
    }
   },
   "outputs": [],
   "source": [
    "# Вбиваем данные задачи\n",
    "A = Matrix([\n",
    "    [Rational(-21, 2), Rational(27, 2), Rational(3, 2)], \n",
    "    [-7, 9, 1], \n",
    "    [Rational(13, 2), Rational(-19, 2), Rational(-3, 2)]\n",
    "])\n",
    "#A = sp.diag(10, 5, 30)\n",
    "b = Matrix([0, 0, 0])\n",
    "u = Matrix([x + x**3, x**3, x**2 + 1])"
   ]
  },
  {
   "cell_type": "code",
   "execution_count": 3,
   "metadata": {
    "ExecuteTime": {
     "end_time": "2019-05-05T14:16:17.025188Z",
     "start_time": "2019-05-05T14:16:16.996194Z"
    },
    "pycharm": {
     "is_executing": false
    },
    "scrolled": true
   },
   "outputs": [
    {
     "name": "stdout",
     "output_type": "stream",
     "text": [
      "Собственные значения и собственные вектора:\n"
     ]
    },
    {
     "data": {
      "text/latex": [
       "$\\displaystyle \\lambda_1 = -2; ~ \\omega_1 = \\left[\\begin{matrix}-5\\\\7\\\\1\\end{matrix}\\right]$"
      ],
      "text/plain": [
       "<IPython.core.display.Math object>"
      ]
     },
     "metadata": {},
     "output_type": "display_data"
    },
    {
     "data": {
      "text/latex": [
       "$\\displaystyle \\lambda_2 = -1; ~ \\omega_2 = \\left[\\begin{matrix}-3\\\\5\\\\1\\end{matrix}\\right]$"
      ],
      "text/plain": [
       "<IPython.core.display.Math object>"
      ]
     },
     "metadata": {},
     "output_type": "display_data"
    },
    {
     "data": {
      "text/latex": [
       "$\\displaystyle \\lambda_3 = 0; ~ \\omega_3 = \\left[\\begin{matrix}- \\frac{2}{3}\\\\1\\\\0\\end{matrix}\\right]$"
      ],
      "text/plain": [
       "<IPython.core.display.Math object>"
      ]
     },
     "metadata": {},
     "output_type": "display_data"
    }
   ],
   "source": [
    "# Ищем собственные вектора и собственные значения\n",
    "print('Собственные значения и собственные вектора:')\n",
    "tmp = A.T.eigenvects()\n",
    "# Выводим это на экран\n",
    "for i, tup in enumerate(tmp):\n",
    "    display(Math(\n",
    "        '\\lambda_{0} = {1}; ~ \\omega_{0} = {2}'\n",
    "        .format( str(i+1), tup[0], latex(tup[2][0]) )\n",
    "    ))"
   ]
  },
  {
   "cell_type": "code",
   "execution_count": 4,
   "metadata": {
    "ExecuteTime": {
     "end_time": "2019-05-05T14:16:17.031194Z",
     "start_time": "2019-05-05T14:16:17.027190Z"
    },
    "pycharm": {
     "is_executing": false
    }
   },
   "outputs": [],
   "source": [
    "# Считаем матрицы, которые нам потом пригодятся\n",
    "Omega = Matrix([Matrix(i[2][0]).T for i in tmp])\n",
    "lambdas = [i[0] for i in tmp]\n",
    "Lambda = sp.diag(*lambdas)"
   ]
  },
  {
   "cell_type": "code",
   "execution_count": 5,
   "metadata": {
    "ExecuteTime": {
     "end_time": "2019-05-05T14:16:17.055187Z",
     "start_time": "2019-05-05T14:16:17.035191Z"
    },
    "pycharm": {
     "is_executing": false,
     "metadata": false,
     "name": "#%%\n"
    },
    "scrolled": false
   },
   "outputs": [
    {
     "data": {
      "text/latex": [
       "Запишем матрицу перехода: $ \\Omega = \\left[\\begin{matrix}-5 & 7 & 1\\\\-3 & 5 & 1\\\\- \\frac{2}{3} & 1 & 0\\end{matrix}\\right]$"
      ],
      "text/plain": [
       "<IPython.core.display.Latex object>"
      ]
     },
     "metadata": {},
     "output_type": "display_data"
    },
    {
     "data": {
      "text/latex": [
       "а также обратную ей: $ \\Omega^{-1} = \\left[\\begin{matrix}- \\frac{3}{2} & \\frac{3}{2} & 3\\\\-1 & 1 & 3\\\\\\frac{1}{2} & \\frac{1}{2} & -6\\end{matrix}\\right]$"
      ],
      "text/plain": [
       "<IPython.core.display.Latex object>"
      ]
     },
     "metadata": {},
     "output_type": "display_data"
    },
    {
     "data": {
      "text/latex": [
       "$\\displaystyle A = \\Omega^{-1} \\Lambda \\Omega$"
      ],
      "text/plain": [
       "<IPython.core.display.Math object>"
      ]
     },
     "metadata": {},
     "output_type": "display_data"
    }
   ],
   "source": [
    "display(Latex(r'Запишем матрицу перехода: $ \\Omega = {}$'.format(latex(Omega))),\n",
    "        Latex(r'а также обратную ей: $ \\Omega^{{-1}} = {}$'.format(latex(Omega**(-1)))),\n",
    "        Math(r'A = \\Omega^{-1} \\Lambda \\Omega')\n",
    "       )"
   ]
  },
  {
   "cell_type": "code",
   "execution_count": 6,
   "metadata": {
    "ExecuteTime": {
     "end_time": "2019-05-05T14:16:17.264189Z",
     "start_time": "2019-05-05T14:16:17.057189Z"
    },
    "pycharm": {
     "is_executing": false
    },
    "scrolled": false
   },
   "outputs": [
    {
     "data": {
      "text/latex": [
       "$\\displaystyle \\mathbf{I} (x, 0) = \\left[\\begin{matrix}2 x^{3} + x^{2} - 5 x + 1\\\\2 x^{3} + x^{2} - 3 x + 1\\\\\\frac{x^{3}}{3} - \\frac{2 x}{3}\\end{matrix}\\right], ~~~~ \\Lambda = \\left[\\begin{matrix}-2 & 0 & 0\\\\0 & -1 & 0\\\\0 & 0 & 0\\end{matrix}\\right]$"
      ],
      "text/plain": [
       "<IPython.core.display.Math object>"
      ]
     },
     "metadata": {},
     "output_type": "display_data"
    }
   ],
   "source": [
    "I = Omega*u\n",
    "I_funcs = [sp.lambdify(x, I[i]) for i in range(Omega.shape[0])]\n",
    "display(\n",
    "    Math(r'\\mathbf{{I}} (x, 0) = {}, ~~~~ \\Lambda = {}'\n",
    "         .format( latex(I), latex(Lambda) )\n",
    "        )\n",
    ")"
   ]
  },
  {
   "cell_type": "markdown",
   "metadata": {
    "pycharm": {}
   },
   "source": [
    "#### О постановке граничных условий:\n",
    "В нашей системе есть 0 положительных собственных значений, 1 нулевое и 2 \n",
    "отрицательных. \n",
    "Значит, на левой границе не нужно ставить граничных условий, на правой же границе нужно 2.\n",
    "В нулевом значении достаточно задать только начальное условие.\n",
    "\n",
    "Попробуем поставить граничные условия вида:\n",
    "\n",
    "\\begin{equation}\n",
    "u|_{t = 0} = f(x), ~~ u|_{x = 1} = g(t)\n",
    "\\end{equation} \n",
    "\n",
    "На них будет наложено необходимое условие разрешимости:\n",
    "$ f(1) = g(0) $.\n",
    "Потребуем также, чтобы производная не терпела разрыв: $ f'(1) = g'(0) $. Итого:\n",
    "\n",
    "\\begin{gather}\n",
    "    \\boxed{\n",
    "    f(1) = g(0) \\\\\n",
    "    f'(1) = g'(0)\n",
    "    }\n",
    "\\end{gather}"
   ]
  },
  {
   "cell_type": "code",
   "execution_count": 14,
   "metadata": {
    "ExecuteTime": {
     "end_time": "2019-05-05T14:16:18.397109Z",
     "start_time": "2019-05-05T14:16:18.380111Z"
    },
    "pycharm": {
     "is_executing": false
    },
    "scrolled": true
   },
   "outputs": [
    {
     "data": {
      "text/markdown": [
       "Итак, мы получили 3 уравнения:"
      ],
      "text/plain": [
       "<IPython.core.display.Markdown object>"
      ]
     },
     "metadata": {},
     "output_type": "display_data"
    },
    {
     "data": {
      "text/latex": [
       "$\\displaystyle \\cfrac{\\partial I_1 } {\\partial t} -2\\cdot\\cfrac{\\partial I_1 } {\\partial x} = 0, ~ I_1 (x, 0) =2 x^{3} + x^{2} - 5 x + 1$"
      ],
      "text/plain": [
       "<IPython.core.display.Math object>"
      ]
     },
     "metadata": {},
     "output_type": "display_data"
    },
    {
     "data": {
      "text/latex": [
       "$\\displaystyle \\cfrac{\\partial I_2 } {\\partial t} -1\\cdot\\cfrac{\\partial I_2 } {\\partial x} = 0, ~ I_2 (x, 0) =2 x^{3} + x^{2} - 3 x + 1$"
      ],
      "text/plain": [
       "<IPython.core.display.Math object>"
      ]
     },
     "metadata": {},
     "output_type": "display_data"
    },
    {
     "data": {
      "text/latex": [
       "$\\displaystyle \\cfrac{\\partial I_3 } {\\partial t} +0\\cdot\\cfrac{\\partial I_3 } {\\partial x} = 0, ~ I_3 (x, 0) =\\frac{x^{3}}{3} - \\frac{2 x}{3}$"
      ],
      "text/plain": [
       "<IPython.core.display.Math object>"
      ]
     },
     "metadata": {},
     "output_type": "display_data"
    }
   ],
   "source": [
    "display(\n",
    "    Markdown('Итак, мы получили {} уравнения:'.format(Lambda.shape[0])),\n",
    "    *[\n",
    "        Math( \n",
    "            (r'\\cfrac{{\\partial I_{i} }} {{\\partial t}} {sign}{koeff}\\cdot'+ \n",
    "             r'\\cfrac{{\\partial I_{i} }} {{\\partial x}} = {left_part}' +\n",
    "             ', ~ I_{i} (x, 0) =' \n",
    "            ).format(\n",
    "                i=(k+1), \n",
    "                sign='+' if lambdas[k] >= 0 else '-',\n",
    "                koeff=abs(lambdas[k]),\n",
    "                size=Lambda.shape[0],\n",
    "                left_part=b[k]\n",
    "            )\n",
    "            + sp.latex( (Omega*u)[k] )\n",
    "        ) for k in range(Lambda.shape[0])\n",
    "    ]\n",
    ")"
   ]
  },
  {
   "cell_type": "markdown",
   "metadata": {
    "pycharm": {}
   },
   "source": [
    "Последнее уравнение решается просто:\n",
    "\\begin{equation*}\n",
    "    I _ { 3 } ( x , t ) = \\frac { x ^ { 3 } } { 3 } - \\frac { 2 x } { 3 }\n",
    "\\end{equation*}"
   ]
  },
  {
   "cell_type": "code",
   "execution_count": 15,
   "metadata": {
    "ExecuteTime": {
     "end_time": "2019-05-05T14:16:18.404110Z",
     "start_time": "2019-05-05T14:16:18.398110Z"
    },
    "pycharm": {}
   },
   "outputs": [],
   "source": [
    "def make_grid(x_min, x_max, t_min, \n",
    "              t_max, h, tau, fictive_x=True):\n",
    "    if fictive_x:\n",
    "        x_grid = np.arange(x_min-h/2, x_max+h/2+h/4, h/2)\n",
    "    else:\n",
    "        x_grid = np.arange(x_min, x_max+h/4, h/2)\n",
    "    t_grid = np.arange(t_min, t_max+tau/2, tau)\n",
    "    # Матрица решений\n",
    "    T = np.zeros((x_grid.shape[0], t_grid.shape[0]))\n",
    "    return T, x_grid, t_grid"
   ]
  },
  {
   "cell_type": "markdown",
   "metadata": {
    "pycharm": {}
   },
   "source": [
    "## Решение схемой неявного правого уголка\n",
    "Данная схема преобразуется к виду:\n",
    "\n",
    "\\begin{equation}\n",
    "    u_m^{n+1} (1 - \\sigma) + \\sigma u_{m+1}^{n+1} = u_m^n, ~~ \\sigma = \\frac{a \\tau}{h}\n",
    "\\end{equation}\n",
    "\n",
    "Здесь нам придется на каждой итерации решать систему из линейных уравений:\n",
    "\\begin{gather*}\n",
    "    \\mathbf{A} u^{n+1} = \\mathbf{b} \\\\\n",
    "    A = \n",
    "        \\begin{bmatrix}\n",
    "            1-\\sigma & \\sigma & 0 & \\dots & 0 \\\\\n",
    "            0 & 1-\\sigma & \\sigma & \\dots & 0 \\\\\n",
    "            \\dots & \\dots & \\dots & \\dots & \\dots \\\\\n",
    "            0 & \\dots & 0 & 1-\\sigma & \\sigma\n",
    "        \\end{bmatrix}, ~~\n",
    "    b = \n",
    "    \\begin{bmatrix}\n",
    "        u_{-1}^n \\\\ u_0^n \\\\ \\dots \\\\ u_{M-1}^n\n",
    "    \\end{bmatrix}\n",
    "\\end{gather*}"
   ]
  },
  {
   "cell_type": "code",
   "execution_count": 16,
   "metadata": {
    "ExecuteTime": {
     "end_time": "2019-05-05T14:16:18.693113Z",
     "start_time": "2019-05-05T14:16:18.406112Z"
    },
    "pycharm": {}
   },
   "outputs": [],
   "source": [
    "from numba import jit\n",
    "\n",
    "@jit(nopython=True)\n",
    "def count_current_x_layer(T, n, sigma):\n",
    "    # А все следующие пересчитываются через предыдущие\n",
    "    # спасибо A.A. за наводку\n",
    "    for m in range(T.shape[0]-2, -1, -1):\n",
    "        T[m, n+1] = 1/(1-sigma)*T[m,n] - sigma/(1-sigma)*T[m+1,n+1]\n",
    "    \n",
    "def ugolok_kernel(T, sigma):\n",
    "    \"\"\"\n",
    "    Предполагается, что граничные условия УЖЕ заданы\n",
    "    \"\"\"\n",
    "    \n",
    "    M, N = T.shape[0], T.shape[1]\n",
    "    for n in range(0, N-1):\n",
    "        # Решим систему и запишем результаты в следующую итерацию времени\n",
    "        count_current_x_layer(T, n, sigma)\n",
    "    # Выкинем фиктивные узлы в возвращаемом значении\n",
    "    return T[1:-1, :]"
   ]
  },
  {
   "cell_type": "code",
   "execution_count": 17,
   "metadata": {
    "ExecuteTime": {
     "end_time": "2019-05-05T14:16:18.708193Z",
     "start_time": "2019-05-05T14:16:18.694533Z"
    },
    "pycharm": {}
   },
   "outputs": [],
   "source": [
    "def calculate_all_ugolok(timezero_funcs, xzero_funcs, a, h, tau, \n",
    "                    x_min=0, x_max=1, t_min=0, t_max=1):\n",
    "    tmp = []\n",
    "    for i in range(len(timezero_funcs)):\n",
    "        func_t, func_x, a_curr = timezero_funcs[i], xzero_funcs[i], np.float64(a[i])\n",
    "        # Создаем сетку\n",
    "        T, x_grid, t_grid = make_grid(x_min, x_max, t_min, \n",
    "                                   t_max, h, tau, fictive_x=True)\n",
    "        # Начальные условия\n",
    "        T[:,0] = func_t(x_grid)\n",
    "        # Граничные условия\n",
    "        T[-1,:] = func_x(t_grid)\n",
    "        T = T.astype('double')\n",
    "        # Высчитываем sigma\n",
    "        sigma = np.double(a_curr*tau/h)\n",
    "        # Вызываем калькулятор\n",
    "        mm = ugolok_kernel(T, sigma)\n",
    "        tmp.append(\n",
    "            [mm, x_grid[1:-1], t_grid]  # Выкинем наши фиктивные узлы\n",
    "        )\n",
    "    return tmp"
   ]
  },
  {
   "cell_type": "code",
   "execution_count": 18,
   "metadata": {
    "ExecuteTime": {
     "end_time": "2019-05-05T14:16:18.718232Z",
     "start_time": "2019-05-05T14:16:18.711263Z"
    },
    "pycharm": {}
   },
   "outputs": [],
   "source": [
    "h, tau = 10**-3, 10**-3/4\n",
    "T, x, t = [], [], []"
   ]
  },
  {
   "cell_type": "code",
   "execution_count": 19,
   "metadata": {
    "ExecuteTime": {
     "end_time": "2019-05-05T14:16:19.444414Z",
     "start_time": "2019-05-05T14:16:18.723108Z"
    },
    "pycharm": {}
   },
   "outputs": [
    {
     "name": "stdout",
     "output_type": "stream",
     "text": [
      "Counting for u_1...\n",
      "Counting for u_2...\n",
      "Counting for u_3...\n"
     ]
    }
   ],
   "source": [
    "#xzero_funcs = [lambda x: np.ones_like(x), lambda x: np.ones_like(x), lambda x: np.zeros_like(x)]\n",
    "xzero_funcs = [\n",
    "    lambda t: np.sin(10*t)+I_funcs[0](1),\n",
    "    lambda t: np.sin(10*t)+I_funcs[1](1),\n",
    "    lambda t: np.sin(10*t)+I_funcs[2](1)\n",
    "]\n",
    "tmp = calculate_all_ugolok(I_funcs, xzero_funcs, lambdas, h, tau)"
   ]
  },
  {
   "cell_type": "code",
   "execution_count": 20,
   "metadata": {
    "ExecuteTime": {
     "end_time": "2019-05-05T14:16:19.961108Z",
     "start_time": "2019-05-05T14:16:19.447112Z"
    }
   },
   "outputs": [],
   "source": [
    "for i, tup in enumerate(tmp):\n",
    "    T.append(tup[0].T)\n",
    "    x, t = tup[1], tup[2]\n",
    "T = np.array(T)"
   ]
  },
  {
   "cell_type": "code",
   "execution_count": 21,
   "metadata": {
    "ExecuteTime": {
     "end_time": "2019-05-05T14:16:21.841689Z",
     "start_time": "2019-05-05T14:16:19.963111Z"
    },
    "pycharm": {}
   },
   "outputs": [],
   "source": [
    "omega_rev = np.array(Omega**-1).astype(np.float64)\n",
    "solution = T.T.dot(omega_rev)"
   ]
  },
  {
   "cell_type": "code",
   "execution_count": 22,
   "metadata": {
    "ExecuteTime": {
     "end_time": "2019-05-05T14:16:21.848682Z",
     "start_time": "2019-05-05T14:16:21.843686Z"
    },
    "pycharm": {}
   },
   "outputs": [],
   "source": [
    "u_1 = solution[:,:,0]\n",
    "u_2 = solution[:,:,1]\n",
    "u_3 = solution[:,:,2]"
   ]
  },
  {
   "cell_type": "code",
   "execution_count": 23,
   "metadata": {
    "ExecuteTime": {
     "end_time": "2019-05-05T14:16:47.489387Z",
     "start_time": "2019-05-05T14:16:21.852730Z"
    },
    "pycharm": {}
   },
   "outputs": [],
   "source": [
    "# Строим анимацию для первого графика\n",
    "\n",
    "import matplotlib.pyplot as plt\n",
    "from matplotlib import animation\n",
    "fig, ax = plt.subplots(figsize=(17,10))\n",
    "\n",
    "line, = ax.plot(x, u_1[:,0], label='Решение')\n",
    "initial, = ax.plot(x, u_1[:,0], label='Начальное условие')\n",
    "#ax.set_ylim([u_1.min()-0.1, u_1.max()+0.1])\n",
    "ax.set_ylim([-10, 10])\n",
    "ax.title.set_text('Численное решение $u_1(t, x)$')\n",
    "ax.set_xlabel(\"x\")\n",
    "ax.set_ylabel('$u_1(t, x)$')\n",
    "ax.legend()\n",
    "ax.grid()\n",
    "\n",
    "\n",
    "def init():  # only required for blitting to give a clean slate.\n",
    "    line.set_ydata([np.nan] * len(x))\n",
    "    initial.set_ydata([np.nan] * len(x))\n",
    "    return line, initial,\n",
    "\n",
    "\n",
    "def animate(i):\n",
    "    line.set_ydata(u_1[:,i*10])  # update the data.\n",
    "    initial.set_ydata(u_1[:,0])  # update the data.x\n",
    "    return line, initial,\n",
    "\n",
    "\n",
    "ani = animation.FuncAnimation(\n",
    "    fig, animate, init_func=init, interval=30, blit=True, save_count=(u_1.shape[1]-1)/10)\n",
    "\n",
    "# To save the animation, use e.g.\n",
    "#\n",
    "ani.save(\"movie_ugol_u1.mp4\")\n",
    "#\n",
    "# or\n",
    "#\n",
    "#from matplotlib.animation import FFMpegWriter\n",
    "#writer = FFMpegWriter(fps=200, metadata=dict(artist='Me'), bitrate=1800)\n",
    "#ani.save(\"movie1.mp4\", writer=writer)\n"
   ]
  },
  {
   "cell_type": "code",
   "execution_count": 24,
   "metadata": {
    "ExecuteTime": {
     "end_time": "2019-05-05T14:17:10.681771Z",
     "start_time": "2019-05-05T14:16:47.492594Z"
    },
    "pycharm": {}
   },
   "outputs": [
    {
     "data": {
      "image/png": "[encoded data removed]",
      "text/plain": [
       "<Figure size 1224x720 with 1 Axes>"
      ]
     },
     "metadata": {
      "needs_background": "light"
     },
     "output_type": "display_data"
    }
   ],
   "source": [
    "# Строим анимацию для второго графика\n",
    "\n",
    "import matplotlib.pyplot as plt\n",
    "from matplotlib import animation\n",
    "fig, ax = plt.subplots(figsize=(17,10))\n",
    "\n",
    "line, = ax.plot(x, u_2[:,0], label='Решение')\n",
    "initial, = ax.plot(x, u_2[:,0], label='Начальное условие')\n",
    "#ax.set_ylim([u_2.min()-0.1, u_2.max()+0.1])\n",
    "ax.set_ylim([-10, 10])\n",
    "ax.title.set_text('Численное решение $u_2(t, x)$')\n",
    "ax.set_xlabel(\"x\")\n",
    "ax.set_ylabel('$u_2(t, x)$')\n",
    "ax.legend()\n",
    "ax.grid()\n",
    "\n",
    "\n",
    "def init():  # only required for blitting to give a clean slate.\n",
    "    line.set_ydata([np.nan] * len(x))\n",
    "    initial.set_ydata([np.nan] * len(x))\n",
    "    return line, initial,\n",
    "\n",
    "\n",
    "def animate(i):\n",
    "    line.set_ydata(u_2[:,i*10])  # update the data.\n",
    "    initial.set_ydata(u_2[:,0])  # update the data.\n",
    "    return line, initial,\n",
    "\n",
    "\n",
    "ani = animation.FuncAnimation(\n",
    "    fig, animate, init_func=init, interval=30, blit=True, save_count=(u_2.shape[1]-1)/10)\n",
    "\n",
    "# To save the animation, use e.g.\n",
    "#\n",
    "ani.save(\"movie_ugol_u2.mp4\")\n",
    "#\n",
    "# or\n",
    "#\n",
    "#from matplotlib.animation import FFMpegWriter\n",
    "#writer = FFMpegWriter(fps=200, metadata=dict(artist='Me'), bitrate=1800)\n",
    "#ani.save(\"movie1.mp4\", writer=writer)\n"
   ]
  },
  {
   "cell_type": "code",
   "execution_count": 25,
   "metadata": {
    "ExecuteTime": {
     "end_time": "2019-05-05T14:17:32.521651Z",
     "start_time": "2019-05-05T14:17:10.684134Z"
    },
    "pycharm": {}
   },
   "outputs": [
    {
     "data": {
      "image/png": "[encoded data removed]",
      "text/plain": [
       "<Figure size 1224x720 with 1 Axes>"
      ]
     },
     "metadata": {
      "needs_background": "light"
     },
     "output_type": "display_data"
    }
   ],
   "source": [
    "# Строим анимацию для третьего графика\n",
    "\n",
    "import matplotlib.pyplot as plt\n",
    "from matplotlib import animation\n",
    "fig, ax = plt.subplots(figsize=(17,10))\n",
    "\n",
    "line, = ax.plot(x, u_3[:,0], label='Решение')\n",
    "initial, = ax.plot(x, u_3[:,0], label='Начальное условие')\n",
    "#ax.set_ylim([u_3.min()-0.1, u_3.max()+0.1])\n",
    "ax.set_ylim([-10, 10])\n",
    "ax.title.set_text('Численное решение $u_3(t, x)$')\n",
    "ax.set_xlabel(\"x\")\n",
    "ax.set_ylabel('$u_3(t, x)$')\n",
    "ax.legend()\n",
    "ax.grid()\n",
    "\n",
    "\n",
    "def init():  # only required for blitting to give a clean slate.\n",
    "    line.set_ydata([np.nan] * len(x))\n",
    "    initial.set_ydata([np.nan] * len(x))\n",
    "    return line, initial,\n",
    "\n",
    "\n",
    "def animate(i):\n",
    "    line.set_ydata(u_3[:,i*10])  # update the data.\n",
    "    initial.set_ydata(u_3[:,0])  # update the data.\n",
    "    return line, initial,\n",
    "\n",
    "\n",
    "ani = animation.FuncAnimation(\n",
    "    fig, animate, init_func=init, interval=30, blit=True, save_count=(u_3.shape[1]-1)/10)\n",
    "\n",
    "# To save the animation, use e.g.\n",
    "#\n",
    "ani.save(\"movie_ugol_u3.mp4\")\n",
    "#\n",
    "# or\n",
    "#\n",
    "#from matplotlib.animation import FFMpegWriter\n",
    "#writer = FFMpegWriter(fps=200, metadata=dict(artist='Me'), bitrate=1800)\n",
    "#ani.save(\"movie1.mp4\", writer=writer)\n"
   ]
  },
  {
   "cell_type": "markdown",
   "metadata": {
    "pycharm": {}
   },
   "source": [
    "## Решение центральной схемой второго порядка"
   ]
  },
  {
   "cell_type": "markdown",
   "metadata": {
    "pycharm": {}
   },
   "source": [
    "Данная схема преобразуется к виду:\n",
    "\\begin{equation*}\n",
    "    u _ { n } ^ { n + 1 } = u _ { m } ^ { n } - \\frac { a \\tau } { 2 h } \\left( u _ { m + 1 } ^ { n } - u _ { m - 1 } ^ { n } \\right) + \\frac { a ^ { 2 } \\tau ^ { 2 } } { 2 h ^ { 2 } } \\left( u _ { m + 1 } ^ { n } - 2 u _ { m } ^ { n } + u _ { m - 1 } ^ { n } \\right)\n",
    "\\end{equation*}\n",
    "Мы введем два фиктивных узла по сетке $x$ (слева и справа). На каждой итерации по $n$ (время) значения в фиктивных узлах будем пересчитывать через линейную интерполяцию по двум предыдущим точкам (поскольку $h$ мало, это должно хватить)."
   ]
  },
  {
   "cell_type": "code",
   "execution_count": 26,
   "metadata": {
    "ExecuteTime": {
     "end_time": "2019-05-05T14:17:32.529719Z",
     "start_time": "2019-05-05T14:17:32.523689Z"
    },
    "pycharm": {}
   },
   "outputs": [],
   "source": [
    "from numba import jit\n",
    "@jit(nopython=True, parallel=True)\n",
    "def laks_kernel(T, sigma):\n",
    "    \"\"\"\n",
    "    Основной калькулятор. Предполагается, что в `T` уже включены начальные данные.\n",
    "    НАЧАЛЬНЫЕ УСЛОВИЯ ЗАДАНЫ СПРАВА!!! Я не хочу реализовывать это для начальных условий слева :)\n",
    "    \"\"\"\n",
    "    M, N = T.shape[0], T.shape[1]\n",
    "    for n in range(0, N-1):\n",
    "        for m in range(1, M-1):\n",
    "            T[m, n+1] = T[m, n] - sigma/2*(T[m+1, n] - T[m-1, n]) \\\n",
    "            + sigma**2/2* (T[m+1, n] - 2*T[m, n] + T[m-1, n])\n",
    "        # Линейная экстраполяция слева\n",
    "        T[0, n+1] = 2*T[1, n+1] - T[2, n+1]\n",
    "        # А вот справа у нас уже есть начальные условия\n",
    "        # Линейная экстраполяция справа\n",
    "        #T[M-1, n+1] = 2*T[M-2, n+1] - T[M-3, n+1]\n",
    "    return T[1:-1,:]"
   ]
  },
  {
   "cell_type": "code",
   "execution_count": 27,
   "metadata": {
    "ExecuteTime": {
     "end_time": "2019-05-05T14:17:32.568870Z",
     "start_time": "2019-05-05T14:17:32.531647Z"
    },
    "pycharm": {}
   },
   "outputs": [],
   "source": [
    "def calculate_all_laks(timezero_funcs, xzero_funcs, a, h, tau, \n",
    "                    x_min=0, x_max=1, t_min=0, t_max=1):\n",
    "    tmp = []\n",
    "    for i in range(len(timezero_funcs)):\n",
    "        t_func, x_func, a_curr = timezero_funcs[i], xzero_funcs[i], np.float64(a[i])\n",
    "        # Создаем сетку\n",
    "        T, x_grid, t_grid = make_grid(x_min, x_max, t_min, \n",
    "                                   t_max, h, tau, fictive_x=True)\n",
    "        T[:,0] = t_func(x_grid)\n",
    "        T[-1,:] = x_func(t_grid)\n",
    "        T = T.astype('double')\n",
    "        # Высчитываем sigma\n",
    "        sigma = np.double(a_curr*tau/h)\n",
    "        # Вызываем Лакаса\n",
    "        mm = laks_kernel(T, sigma)\n",
    "        tmp.append(\n",
    "            [mm, x_grid[1:-1], t_grid]  # Выкинем наши фиктивные узлы\n",
    "        )\n",
    "        del mm\n",
    "    return tmp"
   ]
  },
  {
   "cell_type": "code",
   "execution_count": 28,
   "metadata": {
    "ExecuteTime": {
     "end_time": "2019-05-05T14:17:32.578914Z",
     "start_time": "2019-05-05T14:17:32.570665Z"
    },
    "pycharm": {}
   },
   "outputs": [],
   "source": [
    "h, tau = 10**-3, 10**-3/4"
   ]
  },
  {
   "cell_type": "markdown",
   "metadata": {},
   "source": []
  },
  {
   "cell_type": "code",
   "execution_count": 29,
   "metadata": {
    "ExecuteTime": {
     "end_time": "2019-05-05T14:17:33.502648Z",
     "start_time": "2019-05-05T14:17:32.580653Z"
    },
    "pycharm": {},
    "scrolled": true
   },
   "outputs": [],
   "source": [
    "T, x, t = [], [], []\n",
    "timezero_funcs = I_funcs\n",
    "# Пока попробуем выполнить необходимые условия\n",
    "xzero_funcs = [\n",
    "    lambda t: np.sin(10*t)+I_funcs[0](1),\n",
    "    lambda t: np.sin(10*t)+I_funcs[1](1),\n",
    "    lambda t: np.sin(10*t)+I_funcs[2](1)\n",
    "]\n",
    "tmp = calculate_all_laks(timezero_funcs, xzero_funcs, \n",
    "                         lambdas, h, tau)"
   ]
  },
  {
   "cell_type": "code",
   "execution_count": 30,
   "metadata": {
    "ExecuteTime": {
     "end_time": "2019-05-05T14:17:33.881644Z",
     "start_time": "2019-05-05T14:17:33.504822Z"
    },
    "pycharm": {}
   },
   "outputs": [],
   "source": [
    "for i, tup in enumerate(tmp):\n",
    "    T.append(tup[0].T)\n",
    "    x, t = tup[1], tup[2]\n",
    "T = np.array(T)\n",
    "del tmp"
   ]
  },
  {
   "cell_type": "code",
   "execution_count": 31,
   "metadata": {
    "ExecuteTime": {
     "end_time": "2019-05-05T14:17:33.887371Z",
     "start_time": "2019-05-05T14:17:33.882667Z"
    }
   },
   "outputs": [
    {
     "name": "stderr",
     "output_type": "stream",
     "text": [
      "C:\\Users\\aleks\\Miniconda3\\lib\\site-packages\\ipykernel_launcher.py:1: RuntimeWarning: divide by zero encountered in reciprocal\n",
      "  \"\"\"Entry point for launching an IPython kernel.\n"
     ]
    }
   ],
   "source": [
    "omega_rev = np.array(Omega).astype(np.double)**(-1)"
   ]
  },
  {
   "cell_type": "code",
   "execution_count": 32,
   "metadata": {
    "ExecuteTime": {
     "end_time": "2019-05-05T14:17:35.170831Z",
     "start_time": "2019-05-05T14:17:33.889651Z"
    },
    "pycharm": {}
   },
   "outputs": [],
   "source": [
    "#omega_rev = np.array(Omega**-1).astype(np.float64)\n",
    "solution = T.T.dot(omega_rev)"
   ]
  },
  {
   "cell_type": "code",
   "execution_count": 33,
   "metadata": {
    "ExecuteTime": {
     "end_time": "2019-05-05T14:17:35.175647Z",
     "start_time": "2019-05-05T14:17:35.171712Z"
    },
    "pycharm": {}
   },
   "outputs": [],
   "source": [
    "u_1 = solution[:,:,0]\n",
    "u_2 = solution[:,:,1]\n",
    "u_3 = solution[:,:,2]"
   ]
  },
  {
   "cell_type": "code",
   "execution_count": 34,
   "metadata": {
    "ExecuteTime": {
     "end_time": "2019-05-05T14:17:56.263652Z",
     "start_time": "2019-05-05T14:17:35.177652Z"
    },
    "pycharm": {}
   },
   "outputs": [
    {
     "data": {
      "image/png": "[encoded data removed]",
      "text/plain": [
       "<Figure size 1224x720 with 1 Axes>"
      ]
     },
     "metadata": {
      "needs_background": "light"
     },
     "output_type": "display_data"
    }
   ],
   "source": [
    "# Строим анимацию для первого графика\n",
    "\n",
    "import matplotlib.pyplot as plt\n",
    "from matplotlib import animation\n",
    "fig, ax = plt.subplots(figsize=(17,10))\n",
    "\n",
    "line, = ax.plot(x, u_1[:,0], label='Решение')\n",
    "initial, = ax.plot(x, u_1[:,0], label='Начальное условие')\n",
    "#ax.set_ylim([u_1.min()-0.1, u_1.max()+0.1])\n",
    "ax.set_ylim([-10, 10])\n",
    "ax.title.set_text('Численное решение $u_1(t, x)$')\n",
    "ax.set_xlabel(\"x\")\n",
    "ax.set_ylabel('$u_1(t, x)$')\n",
    "ax.legend()\n",
    "ax.grid()\n",
    "\n",
    "\n",
    "def init():  # only required for blitting to give a clean slate.\n",
    "    line.set_ydata([np.nan] * len(x))\n",
    "    initial.set_ydata([np.nan] * len(x))\n",
    "    return line, initial,\n",
    "\n",
    "\n",
    "def animate(i):\n",
    "    line.set_ydata(u_1[:,i*10])  # update the data.\n",
    "    initial.set_ydata(u_1[:,0])  # update the data.x\n",
    "    return line, initial,\n",
    "\n",
    "\n",
    "ani = animation.FuncAnimation(\n",
    "    fig, animate, init_func=init, interval=30, blit=True, save_count=(u_1.shape[1]-1)/10)\n",
    "\n",
    "# To save the animation, use e.g.\n",
    "#\n",
    "ani.save(\"movie_laks_u1.mp4\")\n",
    "#\n",
    "# or\n",
    "#\n",
    "#from matplotlib.animation import FFMpegWriter\n",
    "#writer = FFMpegWriter(fps=200, metadata=dict(artist='Me'), bitrate=1800)\n",
    "#ani.save(\"movie1.mp4\", writer=writer)\n"
   ]
  },
  {
   "cell_type": "code",
   "execution_count": 35,
   "metadata": {
    "ExecuteTime": {
     "end_time": "2019-05-05T14:18:18.710192Z",
     "start_time": "2019-05-05T14:17:56.264717Z"
    },
    "pycharm": {}
   },
   "outputs": [
    {
     "data": {
      "image/png": "[encoded data removed]",
      "text/plain": [
       "<Figure size 1224x720 with 1 Axes>"
      ]
     },
     "metadata": {
      "needs_background": "light"
     },
     "output_type": "display_data"
    }
   ],
   "source": [
    "# Строим анимацию для второго графика\n",
    "\n",
    "import matplotlib.pyplot as plt\n",
    "from matplotlib import animation\n",
    "fig, ax = plt.subplots(figsize=(17,10))\n",
    "\n",
    "line, = ax.plot(x, u_2[:,0], label='Решение')\n",
    "initial, = ax.plot(x, u_2[:,0], label='Начальное условие')\n",
    "#ax.set_ylim([u_2.min()-0.1, u_2.max()+0.1])\n",
    "ax.set_ylim([-10, 10])\n",
    "ax.title.set_text('Численное решение $u_2(t, x)$')\n",
    "ax.set_xlabel(\"x\")\n",
    "ax.set_ylabel('$u_2(t, x)$')\n",
    "ax.legend()\n",
    "ax.grid()\n",
    "\n",
    "\n",
    "def init():  # only required for blitting to give a clean slate.\n",
    "    line.set_ydata([np.nan] * len(x))\n",
    "    initial.set_ydata([np.nan] * len(x))\n",
    "    return line, initial,\n",
    "\n",
    "\n",
    "def animate(i):\n",
    "    line.set_ydata(u_2[:,i*10])  # update the data.\n",
    "    initial.set_ydata(u_2[:,0])  # update the data.\n",
    "    return line, initial,\n",
    "\n",
    "\n",
    "ani = animation.FuncAnimation(\n",
    "    fig, animate, init_func=init, interval=30, blit=True, save_count=(u_2.shape[1]-1)/10)\n",
    "\n",
    "# To save the animation, use e.g.\n",
    "#\n",
    "ani.save(\"movie_laks_u2.mp4\")\n",
    "#\n",
    "# or\n",
    "#\n",
    "#from matplotlib.animation import FFMpegWriter\n",
    "#writer = FFMpegWriter(fps=200, metadata=dict(artist='Me'), bitrate=1800)\n",
    "#ani.save(\"movie1.mp4\", writer=writer)\n"
   ]
  },
  {
   "cell_type": "code",
   "execution_count": 36,
   "metadata": {
    "ExecuteTime": {
     "end_time": "2019-05-05T14:18:39.765193Z",
     "start_time": "2019-05-05T14:18:18.711187Z"
    },
    "pycharm": {}
   },
   "outputs": [
    {
     "data": {
      "image/png": "[encoded data removed]",
      "text/plain": [
       "<Figure size 1224x720 with 1 Axes>"
      ]
     },
     "metadata": {
      "needs_background": "light"
     },
     "output_type": "display_data"
    }
   ],
   "source": [
    "# Строим анимацию для третьего графика\n",
    "\n",
    "import matplotlib.pyplot as plt\n",
    "from matplotlib import animation\n",
    "fig, ax = plt.subplots(figsize=(17,10))\n",
    "\n",
    "line, = ax.plot(x, u_3[:,0], label='Решение')\n",
    "initial, = ax.plot(x, u_3[:,0], label='Начальное условие')\n",
    "#ax.set_ylim([u_3.min()-0.1, u_3.max()+0.1])\n",
    "ax.set_ylim([-10, 10])\n",
    "ax.title.set_text('Численное решение $u_3(t, x)$')\n",
    "ax.set_xlabel(\"x\")\n",
    "ax.set_ylabel('$u_3(t, x)$')\n",
    "ax.legend()\n",
    "ax.grid()\n",
    "\n",
    "\n",
    "def init():  # only required for blitting to give a clean slate.\n",
    "    line.set_ydata([np.nan] * len(x))\n",
    "    initial.set_ydata([np.nan] * len(x))\n",
    "    return line, initial,\n",
    "\n",
    "\n",
    "def animate(i):\n",
    "    line.set_ydata(u_3[:,i*10])  # update the data.\n",
    "    initial.set_ydata(u_3[:,0])  # update the data.\n",
    "    return line, initial,\n",
    "\n",
    "\n",
    "ani = animation.FuncAnimation(\n",
    "    fig, animate, init_func=init, interval=30, blit=True, save_count=(u_3.shape[1]-1)/10)\n",
    "\n",
    "# To save the animation, use e.g.\n",
    "#\n",
    "ani.save(\"movie_laks_u3.mp4\")\n",
    "#\n",
    "# or\n",
    "#\n",
    "#from matplotlib.animation import FFMpegWriter\n",
    "#writer = FFMpegWriter(fps=200, metadata=dict(artist='Me'), bitrate=1800)\n",
    "#ani.save(\"movie1.mp4\", writer=writer)\n"
   ]
  },
  {
   "cell_type": "code",
   "execution_count": null,
   "metadata": {
    "pycharm": {}
   },
   "outputs": [],
   "source": []
  }
 ],
 "metadata": {
  "kernelspec": {
   "display_name": "Python 3",
   "language": "python",
   "name": "python3"
  },
  "language_info": {
   "codemirror_mode": {
    "name": "ipython",
    "version": 3
   },
   "file_extension": ".py",
   "mimetype": "text/x-python",
   "name": "python",
   "nbconvert_exporter": "python",
   "pygments_lexer": "ipython3",
   "version": "3.6.8"
  },
  "latex_envs": {
   "LaTeX_envs_menu_present": true,
   "autoclose": false,
   "autocomplete": true,
   "bibliofile": "biblio.bib",
   "cite_by": "apalike",
   "current_citInitial": 1,
   "eqLabelWithNumbers": true,
   "eqNumInitial": 1,
   "hotkeys": {
    "equation": "Ctrl-E",
    "itemize": "Ctrl-I"
   },
   "labels_anchors": false,
   "latex_user_defs": false,
   "report_style_numbering": false,
   "user_envs_cfg": false
  },
  "varInspector": {
   "cols": {
    "lenName": 16,
    "lenType": 16,
    "lenVar": 40
   },
   "kernels_config": {
    "python": {
     "delete_cmd_postfix": "",
     "delete_cmd_prefix": "del ",
     "library": "var_list.py",
     "varRefreshCmd": "print(var_dic_list())"
    },
    "r": {
     "delete_cmd_postfix": ") ",
     "delete_cmd_prefix": "rm(",
     "library": "var_list.r",
     "varRefreshCmd": "cat(var_dic_list()) "
    }
   },
   "oldHeight": 460.79999999999995,
   "position": {
    "height": "40px",
    "left": "1151.2px",
    "right": "20px",
    "top": "120px",
    "width": "350px"
   },
   "types_to_exclude": [
    "module",
    "function",
    "builtin_function_or_method",
    "instance",
    "_Feature"
   ],
   "varInspector_section_display": "none",
   "window_display": true
  }
 },
 "nbformat": 4,
 "nbformat_minor": 2
}
