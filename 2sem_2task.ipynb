{
 "cells": [
  {
   "cell_type": "markdown",
   "metadata": {},
   "source": [
    "# Вариант 9\n",
    "\n",
    "Рассматривается система линейных гиперболических уравнений:\n",
    "\n",
    "\\begin{gather*}\n",
    "    \\frac { \\partial \\mathbf { u } } { \\partial t } + \\mathbf { A } \\frac { \\partial \\mathbf { u } } { \\partial x } = \\mathbf { b } ( x ) , ~ 0 \\leqslant x \\leqslant 1, ~ 0 \\leqslant t \\leqslant 1, ~~ \n",
    "    \\mathbf { u } ( x , 0 ) = \\left( \\begin{array} { c } { 2 x - x ^ { 3 } } \\\\ { x ^ { 3 } } \\\\ { x ^ { 2 } + 1 } \\end{array} \\right) \\\\\n",
    "    \\mathbf { A } = \\left( \\begin{array} { c c c } { - 21 / 2 } & { 27 / 2 } & { 3 / 2 } \\\\ { - 7 } & { 9 } & { 1 } \\\\ { 13 / 2 } & { - 19 / 2 } & { - 3 / 2 } \\end{array} \\right), ~~ \n",
    "    \\mathbf { b } ( x ) = \\left( \\begin{array} { l } { 0 } \\\\ { 0 } \\\\ { 0 } \\end{array} \\right)\n",
    "\\end{gather*}\n",
    "\n",
    "Привести систему к характеристическому виду, предложить корректную постановку граничных условий.\n",
    "\n",
    "Решить численно систему уравенний с использованием двух указанных схем.\n",
    "Для каждой из схем выписать первое дифференциальное приближение (ПДП), оределеить, диссипативная или дисперсионная ошибка преобладает.\n",
    "Монотонна ли схема? Оценить апостериорно порядок сходимости каждой схемы.\n",
    "\n",
    "### Разностные схемы\n",
    "Схемы приводятся для модельного уравнения $ \\frac { \\partial u } { \\partial t } + a \\frac { \\partial u } { \\partial x } = 0 , ~ a = \\text { const } > 0 $ на сетке $ x _ { m } = m h , ~ m = 0 \\dots M , ~ M h = 1 ; ~ t ^ { n } = n \\tau , ~ n = 0 \\dots N, ~ N \\tau = 1 $. При необходимости преобразовать схемы для случая $ a = \\text{const} < 0 $.\n",
    "\n",
    "1) \"Неявный\" правый уголок (схема бегущего счета)\n",
    "\\begin{equation*}\n",
    "    \\frac { u _ { m } ^ { n + 1 } - u _ { m } ^ { n } } { \\tau } + a \\frac { u _ { m + 1 } ^ { n + 1 } - u _ { m } ^ { n + 1 } } { h } = 0\n",
    "\\end{equation*}\n",
    "\n",
    "2) Центральная схема второго порядка (Лакса-Вендроффа, МакКормака)\n",
    "\\begin{equation*}\n",
    "    \\frac { u _ { m } ^ { n + 1 } - u _ { m } ^ { n } } { \\tau } + a \\frac { u _ { m + 1 } ^ { n } - u _ { m - 1 } ^ { n } } { 2 h } = \\frac { a ^ { 2 } \\tau } { 2 } \\frac { u _ { m + 1 } ^ { n } - 2 u _ { m } ^ { n } + u _ { m - 1 } ^ { n } } { h ^ { 2 } }\n",
    "\\end{equation*}"
   ]
  },
  {
   "cell_type": "markdown",
   "metadata": {},
   "source": [
    "## Анализ системы\n",
    "Приведем систему к характеристическому виду. Для этого найдем левые собственные вектора (см. код ниже), затем приведем систему к каноническому виду. Это реализовано ниже."
   ]
  },
  {
   "cell_type": "code",
   "execution_count": 1,
   "metadata": {},
   "outputs": [],
   "source": [
    "# Подготовительный этап\n",
    "from IPython.display import display, Math, Latex, Markdown\n",
    "import pprint\n",
    "import sympy as sp\n",
    "from sympy import Matrix, Rational\n",
    "import numpy as np\n",
    "from scipy.linalg import eig\n",
    "x, u, t = sp.symbols('x u t')"
   ]
  },
  {
   "cell_type": "code",
   "execution_count": 2,
   "metadata": {},
   "outputs": [],
   "source": [
    "# Вбиваем данные задачи\n",
    "A = Matrix([\n",
    "    [Rational(-21, 2), Rational(27, 2), Rational(3, 2)], \n",
    "    [-7, 9, 1], \n",
    "    [Rational(13, 2), Rational(-19, 2), Rational(-3, 2)]\n",
    "])\n",
    "b = Matrix([0, 0, 0])\n",
    "u = Matrix([x + x**3, x**3, x**2 + 1])"
   ]
  },
  {
   "cell_type": "code",
   "execution_count": 3,
   "metadata": {
    "scrolled": true
   },
   "outputs": [
    {
     "name": "stdout",
     "output_type": "stream",
     "text": [
      "Собственные значения и собственные вектора:\n"
     ]
    },
    {
     "data": {
      "text/latex": [
       "$\\displaystyle \\lambda_1 = -2; ~ \\omega_1 = Matrix([[-5], [7], [1]])$"
      ],
      "text/plain": [
       "<IPython.core.display.Math object>"
      ]
     },
     "metadata": {},
     "output_type": "display_data"
    },
    {
     "data": {
      "text/latex": [
       "$\\displaystyle \\lambda_2 = -1; ~ \\omega_2 = Matrix([[-3], [5], [1]])$"
      ],
      "text/plain": [
       "<IPython.core.display.Math object>"
      ]
     },
     "metadata": {},
     "output_type": "display_data"
    },
    {
     "data": {
      "text/latex": [
       "$\\displaystyle \\lambda_3 = 0; ~ \\omega_3 = Matrix([[-2/3], [1], [0]])$"
      ],
      "text/plain": [
       "<IPython.core.display.Math object>"
      ]
     },
     "metadata": {},
     "output_type": "display_data"
    }
   ],
   "source": [
    "# Ищем собственные вектора и собственные значения\n",
    "print('Собственные значения и собственные вектора:')\n",
    "tmp = A.T.eigenvects()\n",
    "# Выводим это на экран\n",
    "for i, tup in enumerate(tmp):\n",
    "    display(Math(\n",
    "        '\\lambda_{0} = {1}; ~ \\omega_{0} = {2}'\n",
    "        .format( str(i+1), tup[0], tup[2][0] )\n",
    "    ))"
   ]
  },
  {
   "cell_type": "code",
   "execution_count": 4,
   "metadata": {},
   "outputs": [],
   "source": [
    "# Считаем матрицы, которые нам потом пригодятся\n",
    "Omega = Matrix([Matrix(i[2][0]).T for i in tmp])\n",
    "lambdas = [i[0] for i in tmp]\n",
    "Lambda = sp.diag(*lambdas)"
   ]
  },
  {
   "cell_type": "code",
   "execution_count": 5,
   "metadata": {
    "scrolled": true
   },
   "outputs": [
    {
     "data": {
      "text/latex": [
       "Запишем матрицу перехода: $ \\Omega = $"
      ],
      "text/plain": [
       "<IPython.core.display.Latex object>"
      ]
     },
     "metadata": {},
     "output_type": "display_data"
    },
    {
     "data": {
      "text/latex": [
       "$\\displaystyle \\left[\\begin{matrix}-5 & 7 & 1\\\\-3 & 5 & 1\\\\- \\frac{2}{3} & 1 & 0\\end{matrix}\\right]$"
      ],
      "text/plain": [
       "Matrix([\n",
       "[  -5, 7, 1],\n",
       "[  -3, 5, 1],\n",
       "[-2/3, 1, 0]])"
      ]
     },
     "metadata": {},
     "output_type": "display_data"
    },
    {
     "data": {
      "text/latex": [
       "а также обратную ей: $ \\Omega^{-1} = $"
      ],
      "text/plain": [
       "<IPython.core.display.Latex object>"
      ]
     },
     "metadata": {},
     "output_type": "display_data"
    },
    {
     "data": {
      "text/latex": [
       "$\\displaystyle \\left[\\begin{matrix}- \\frac{3}{2} & \\frac{3}{2} & 3\\\\-1 & 1 & 3\\\\\\frac{1}{2} & \\frac{1}{2} & -6\\end{matrix}\\right]$"
      ],
      "text/plain": [
       "Matrix([\n",
       "[-3/2, 3/2,  3],\n",
       "[  -1,   1,  3],\n",
       "[ 1/2, 1/2, -6]])"
      ]
     },
     "metadata": {},
     "output_type": "display_data"
    },
    {
     "data": {
      "text/latex": [
       "$\\displaystyle A = \\Omega^{-1} \\Lambda \\Omega$"
      ],
      "text/plain": [
       "<IPython.core.display.Math object>"
      ]
     },
     "metadata": {},
     "output_type": "display_data"
    }
   ],
   "source": [
    "display(Latex(r'Запишем матрицу перехода: $ \\Omega = $'), \n",
    "        Omega,\n",
    "        Latex(r'а также обратную ей: $ \\Omega^{-1} = $'),\n",
    "        Omega**(-1),\n",
    "        Math(r'A = \\Omega^{-1} \\Lambda \\Omega')\n",
    "       )"
   ]
  },
  {
   "cell_type": "code",
   "execution_count": 6,
   "metadata": {
    "scrolled": true
   },
   "outputs": [
    {
     "data": {
      "text/latex": [
       "$\\displaystyle \\mathbf{I} (x, 0) = $"
      ],
      "text/plain": [
       "<IPython.core.display.Math object>"
      ]
     },
     "metadata": {},
     "output_type": "display_data"
    },
    {
     "data": {
      "text/latex": [
       "$\\displaystyle \\left[\\begin{matrix}2 x^{3} + x^{2} - 5 x + 1\\\\2 x^{3} + x^{2} - 3 x + 1\\\\\\frac{x^{3}}{3} - \\frac{2 x}{3}\\end{matrix}\\right]$"
      ],
      "text/plain": [
       "Matrix([\n",
       "[2*x**3 + x**2 - 5*x + 1],\n",
       "[2*x**3 + x**2 - 3*x + 1],\n",
       "[         x**3/3 - 2*x/3]])"
      ]
     },
     "metadata": {},
     "output_type": "display_data"
    },
    {
     "data": {
      "text/latex": [
       "$\\displaystyle \\Lambda = $"
      ],
      "text/plain": [
       "<IPython.core.display.Math object>"
      ]
     },
     "metadata": {},
     "output_type": "display_data"
    },
    {
     "data": {
      "text/latex": [
       "$\\displaystyle \\left[\\begin{matrix}-2 & 0 & 0\\\\0 & -1 & 0\\\\0 & 0 & 0\\end{matrix}\\right]$"
      ],
      "text/plain": [
       "Matrix([\n",
       "[-2,  0, 0],\n",
       "[ 0, -1, 0],\n",
       "[ 0,  0, 0]])"
      ]
     },
     "metadata": {},
     "output_type": "display_data"
    }
   ],
   "source": [
    "display(Math(r'\\mathbf{I} (x, 0) = '), Omega*u, \n",
    "       Math(r'\\Lambda = '), Lambda,)"
   ]
  },
  {
   "cell_type": "markdown",
   "metadata": {},
   "source": [
    "#### О постановке граничных условий:\n",
    "В нашей системе есть 0 положительных собственных значений, 1 нулевое и 2 \n",
    "отрицательных. Значит, на левой границе не нужно ставить граничных условий, на правой же границе нужно 2. В нулевом значении достаточно задать только начальное условие."
   ]
  },
  {
   "cell_type": "code",
   "execution_count": 7,
   "metadata": {
    "scrolled": true
   },
   "outputs": [
    {
     "data": {
      "text/markdown": [
       "Итак, мы получили 3 уравнения:"
      ],
      "text/plain": [
       "<IPython.core.display.Markdown object>"
      ]
     },
     "metadata": {},
     "output_type": "display_data"
    },
    {
     "data": {
      "text/latex": [
       "$\\displaystyle \\cfrac{\\partial I_1 } {\\partial t} -2\\cdot\\cfrac{\\partial I_1 } {\\partial x} = 0, ~ I_1 (x, 0) =2 x^{3} + x^{2} - 5 x + 1$"
      ],
      "text/plain": [
       "<IPython.core.display.Math object>"
      ]
     },
     "metadata": {},
     "output_type": "display_data"
    },
    {
     "data": {
      "text/latex": [
       "$\\displaystyle \\cfrac{\\partial I_2 } {\\partial t} -1\\cdot\\cfrac{\\partial I_2 } {\\partial x} = 0, ~ I_2 (x, 0) =2 x^{3} + x^{2} - 3 x + 1$"
      ],
      "text/plain": [
       "<IPython.core.display.Math object>"
      ]
     },
     "metadata": {},
     "output_type": "display_data"
    },
    {
     "data": {
      "text/latex": [
       "$\\displaystyle \\cfrac{\\partial I_3 } {\\partial t} -0\\cdot\\cfrac{\\partial I_3 } {\\partial x} = 0, ~ I_3 (x, 0) =\\frac{x^{3}}{3} - \\frac{2 x}{3}$"
      ],
      "text/plain": [
       "<IPython.core.display.Math object>"
      ]
     },
     "metadata": {},
     "output_type": "display_data"
    }
   ],
   "source": [
    "display(\n",
    "    Markdown('Итак, мы получили {} уравнения:'.format(Lambda.shape[0])),\n",
    "    *[\n",
    "        Math( \n",
    "            (r'\\cfrac{{\\partial I_{i} }} {{\\partial t}} {sign}{koeff}\\cdot'+ \n",
    "             r'\\cfrac{{\\partial I_{i} }} {{\\partial x}} = {left_part}' +\n",
    "             ', ~ I_{i} (x, 0) =' \n",
    "            ).format(\n",
    "                i=(k+1), \n",
    "                sign='+' if lambdas[k] > 0 else '-',\n",
    "                koeff=abs(lambdas[k]),\n",
    "                size=Lambda.shape[0],\n",
    "                left_part=b[k]\n",
    "            )\n",
    "            + sp.latex( (Omega*u)[k] )\n",
    "        ) for k in range(Lambda.shape[0])\n",
    "    ]\n",
    ")"
   ]
  },
  {
   "cell_type": "markdown",
   "metadata": {},
   "source": [
    "Последнее уравнение решается просто:\n",
    "\\begin{equation*}\n",
    "    I _ { 3 } ( x , t ) = \\frac { x ^ { 3 } } { 3 } - \\frac { 2 x } { 3 }\n",
    "\\end{equation*}"
   ]
  },
  {
   "cell_type": "markdown",
   "metadata": {},
   "source": [
    "## Решение схемой неявного левого уголка"
   ]
  },
  {
   "cell_type": "code",
   "execution_count": 8,
   "metadata": {},
   "outputs": [],
   "source": [
    "# TODO: СДЕЛАЙТЕ МЕНЯ!!"
   ]
  },
  {
   "cell_type": "markdown",
   "metadata": {},
   "source": [
    "## Решение центральной схемой второго порядка"
   ]
  },
  {
   "cell_type": "code",
   "execution_count": 9,
   "metadata": {},
   "outputs": [],
   "source": [
    "I = [sp.lambdify(x, (Omega*u)[i]) for i in range(Omega.shape[0])]"
   ]
  },
  {
   "cell_type": "markdown",
   "metadata": {},
   "source": [
    "Данная схема преобразуется к виду:\n",
    "\\begin{equation*}\n",
    "    u _ { n } ^ { n + 1 } = u _ { m } ^ { n } - \\frac { a \\tau } { 2 h } \\left( u _ { m + 1 } ^ { n } - u _ { m - 1 } ^ { n } \\right) + \\frac { a ^ { 2 } \\tau ^ { 2 } } { 2 h ^ { 2 } } \\left( u _ { m + 1 } ^ { n } - 2 u _ { m } ^ { n } + u _ { m - 1 } ^ { n } \\right)\n",
    "\\end{equation*}"
   ]
  },
  {
   "cell_type": "code",
   "execution_count": 10,
   "metadata": {},
   "outputs": [],
   "source": [
    "# Эксперимент. Пробуем сделать ядро с скоростью выполнения почти как в C++\n",
    "from numba import jit\n",
    "\n",
    "@jit(nopython=True, parallel=True)\n",
    "def _laks_kernel(T, M, N, a, tau):\n",
    "    \"\"\"\n",
    "    Основной калькулятор. Предполагается, что в `T` уже включены начальные данные\n",
    "    \"\"\"\n",
    "    for n in range(0, N-1):\n",
    "        for m in range(1, M-1):\n",
    "            T[m, n+1] = T[m, n] - a*tau/(2*h)*(T[m+1, n] - T[m-1, n]) \\\n",
    "            + (a*tau/h)**2/2* (T[m+1, n] - 2*T[m, n] + T[m-1, n])\n",
    "        # Линейная экстраполяция слева\n",
    "        T[0, n+1] = 2*T[1, n+1] - T[2, n+1]\n",
    "        # Линейная экстраполяция справа\n",
    "        T[M-1, n+1] = 2*T[M-2, n+1] - T[M-3, n+1]\n",
    "    return T[1:-1,:]"
   ]
  },
  {
   "cell_type": "code",
   "execution_count": 11,
   "metadata": {},
   "outputs": [],
   "source": [
    "def solve_laks(f0, a, h, tau, \n",
    "               x_min=0, x_max=1, t_min=0, t_max=1):\n",
    "    # Сетка\n",
    "    x_grid = np.arange(x_min-h/2, x_max+h/2, h/2)\n",
    "    M = x_grid.shape[0]\n",
    "    t_grid = np.arange(t_min, t_max+tau, tau)\n",
    "    N = t_grid.shape[0]\n",
    "    # Зададим матрицу решений\n",
    "    T = np.zeros((M, N))\n",
    "    # Начальное условие\n",
    "    T[:,0] = f0(x_grid)\n",
    "    T = T.astype('double')\n",
    "    #plt.plot(x_grid, T[:, 0])\n",
    "    return _laks_kernel(T, M, N, a, tau), x_grid[1:-1], t_grid\n"
   ]
  },
  {
   "cell_type": "code",
   "execution_count": 12,
   "metadata": {},
   "outputs": [],
   "source": [
    "def calculate_all_I(I, a, h, tau):\n",
    "    tmp = []\n",
    "    for i in range(len(I)):\n",
    "        func, a_curr = I[i], np.double(a[i])\n",
    "        mm = solve_laks(func, a_curr, h, tau)\n",
    "        tmp.append(mm)\n",
    "    return tmp"
   ]
  },
  {
   "cell_type": "code",
   "execution_count": 13,
   "metadata": {},
   "outputs": [],
   "source": [
    "h, tau = 10**-3, 10**-3/4\n",
    "T, x, t = [], [], []"
   ]
  },
  {
   "cell_type": "code",
   "execution_count": 14,
   "metadata": {
    "scrolled": true
   },
   "outputs": [],
   "source": [
    "tmp = calculate_all_I(I, lambdas, h, tau)"
   ]
  },
  {
   "cell_type": "code",
   "execution_count": 15,
   "metadata": {},
   "outputs": [],
   "source": [
    "for i, tup in enumerate(tmp):\n",
    "    T.append(tup[0].T)\n",
    "    x, t = tup[1], tup[2]\n",
    "T = np.array(T)"
   ]
  },
  {
   "cell_type": "code",
   "execution_count": 16,
   "metadata": {},
   "outputs": [],
   "source": [
    "omega_rev = np.array(Omega**-1).astype(np.float64)\n",
    "# Выполним обратное преобразование\n",
    "#for i in range(T.shape[1]):\n",
    "#    for j in range(T.shape[2]):\n",
    "#        a = T[:,i,j].dot(omega_rev)\n",
    "#        for k in range(3):\n",
    "#            solution[i][j] = a\n",
    "#solution = T.reshape(T.shape[1], -1, Omega.shape[0]).dot(omega_rev)\n",
    "solution = T.T.dot(omega_rev)"
   ]
  },
  {
   "cell_type": "code",
   "execution_count": null,
   "metadata": {},
   "outputs": [],
   "source": [
    "u_1 = solution[:,:,0]\n",
    "u_2 = solution[:,:,1]\n",
    "u_3 = solution[:,:,2]"
   ]
  },
  {
   "cell_type": "code",
   "execution_count": 20,
   "metadata": {},
   "outputs": [
    {
     "data": {
      "image/png": "[encoded data removed]",
      "text/plain": [
       "<Figure size 1224x720 with 1 Axes>"
      ]
     },
     "metadata": {
      "needs_background": "light"
     },
     "output_type": "display_data"
    }
   ],
   "source": [
    "# Строим анимацию для первого графика\n",
    "\n",
    "import matplotlib.pyplot as plt\n",
    "from matplotlib import animation\n",
    "fig, ax = plt.subplots(figsize=(17,10))\n",
    "\n",
    "line, = ax.plot(x, u_1[:,0], label='Решение')\n",
    "initial, = ax.plot(x, u_1[:,0], label='Начальное условие')\n",
    "#ax.set_ylim([u_1.min()-0.1, u_1.max()+0.1])\n",
    "ax.set_ylim([-10, 10])\n",
    "ax.title.set_text('Численное решение $u_1(t, x)$')\n",
    "ax.set_xlabel(\"x\")\n",
    "ax.set_ylabel('$u_1(t, x)$')\n",
    "ax.legend()\n",
    "ax.grid()\n",
    "\n",
    "\n",
    "def init():  # only required for blitting to give a clean slate.\n",
    "    line.set_ydata([np.nan] * len(x))\n",
    "    initial.set_ydata([np.nan] * len(x))\n",
    "    return line, initial,\n",
    "\n",
    "\n",
    "def animate(i):\n",
    "    line.set_ydata(u_1[:,i*10])  # update the data.\n",
    "    initial.set_ydata(u_1[:,0])  # update the data.x\n",
    "    return line, initial,\n",
    "\n",
    "\n",
    "ani = animation.FuncAnimation(\n",
    "    fig, animate, init_func=init, interval=30, blit=True, save_count=(u_1.shape[1]-1)/10)\n",
    "\n",
    "# To save the animation, use e.g.\n",
    "#\n",
    "ani.save(\"movie1.mp4\")\n",
    "#\n",
    "# or\n",
    "#\n",
    "#from matplotlib.animation import FFMpegWriter\n",
    "#writer = FFMpegWriter(fps=200, metadata=dict(artist='Me'), bitrate=1800)\n",
    "#ani.save(\"movie1.mp4\", writer=writer)\n"
   ]
  },
  {
   "cell_type": "code",
   "execution_count": 21,
   "metadata": {},
   "outputs": [
    {
     "data": {
      "image/png": "[encoded data removed]",
      "text/plain": [
       "<Figure size 1224x720 with 1 Axes>"
      ]
     },
     "metadata": {
      "needs_background": "light"
     },
     "output_type": "display_data"
    }
   ],
   "source": [
    "# Строим анимацию для второго графика\n",
    "\n",
    "import matplotlib.pyplot as plt\n",
    "from matplotlib import animation\n",
    "fig, ax = plt.subplots(figsize=(17,10))\n",
    "\n",
    "line, = ax.plot(x, u_2[:,0], label='Решение')\n",
    "initial, = ax.plot(x, u_2[:,0], label='Начальное условие')\n",
    "#ax.set_ylim([u_2.min()-0.1, u_2.max()+0.1])\n",
    "ax.set_ylim([-10, 10])\n",
    "ax.title.set_text('Численное решение $u_2(t, x)$')\n",
    "ax.set_xlabel(\"x\")\n",
    "ax.set_ylabel('$u_2(t, x)$')\n",
    "ax.legend()\n",
    "ax.grid()\n",
    "\n",
    "\n",
    "def init():  # only required for blitting to give a clean slate.\n",
    "    line.set_ydata([np.nan] * len(x))\n",
    "    initial.set_ydata([np.nan] * len(x))\n",
    "    return line, initial,\n",
    "\n",
    "\n",
    "def animate(i):\n",
    "    line.set_ydata(u_2[:,i*10])  # update the data.\n",
    "    initial.set_ydata(u_2[:,0])  # update the data.\n",
    "    return line, initial,\n",
    "\n",
    "\n",
    "ani = animation.FuncAnimation(\n",
    "    fig, animate, init_func=init, interval=30, blit=True, save_count=(u_2.shape[1]-1)/10)\n",
    "\n",
    "# To save the animation, use e.g.\n",
    "#\n",
    "ani.save(\"movie2.mp4\")\n",
    "#\n",
    "# or\n",
    "#\n",
    "#from matplotlib.animation import FFMpegWriter\n",
    "#writer = FFMpegWriter(fps=200, metadata=dict(artist='Me'), bitrate=1800)\n",
    "#ani.save(\"movie1.mp4\", writer=writer)\n"
   ]
  },
  {
   "cell_type": "code",
   "execution_count": 22,
   "metadata": {},
   "outputs": [
    {
     "data": {
      "image/png": "[encoded data removed]",
      "text/plain": [
       "<Figure size 1224x720 with 1 Axes>"
      ]
     },
     "metadata": {
      "needs_background": "light"
     },
     "output_type": "display_data"
    }
   ],
   "source": [
    "# Строим анимацию для третьего графика\n",
    "\n",
    "import matplotlib.pyplot as plt\n",
    "from matplotlib import animation\n",
    "fig, ax = plt.subplots(figsize=(17,10))\n",
    "\n",
    "line, = ax.plot(x, u_3[:,0], label='Решение')\n",
    "initial, = ax.plot(x, u_3[:,0], label='Начальное условие')\n",
    "#ax.set_ylim([u_3.min()-0.1, u_3.max()+0.1])\n",
    "ax.set_ylim([-10, 10])\n",
    "ax.title.set_text('Численное решение $u_3(t, x)$')\n",
    "ax.set_xlabel(\"x\")\n",
    "ax.set_ylabel('$u_3(t, x)$')\n",
    "ax.legend()\n",
    "ax.grid()\n",
    "\n",
    "\n",
    "def init():  # only required for blitting to give a clean slate.\n",
    "    line.set_ydata([np.nan] * len(x))\n",
    "    initial.set_ydata([np.nan] * len(x))\n",
    "    return line, initial,\n",
    "\n",
    "\n",
    "def animate(i):\n",
    "    line.set_ydata(u_3[:,i*10])  # update the data.\n",
    "    initial.set_ydata(u_3[:,0])  # update the data.\n",
    "    return line, initial,\n",
    "\n",
    "\n",
    "ani = animation.FuncAnimation(\n",
    "    fig, animate, init_func=init, interval=30, blit=True, save_count=(u_3.shape[1]-1)/10)\n",
    "\n",
    "# To save the animation, use e.g.\n",
    "#\n",
    "ani.save(\"movie3.mp4\")\n",
    "#\n",
    "# or\n",
    "#\n",
    "#from matplotlib.animation import FFMpegWriter\n",
    "#writer = FFMpegWriter(fps=200, metadata=dict(artist='Me'), bitrate=1800)\n",
    "#ani.save(\"movie1.mp4\", writer=writer)\n"
   ]
  },
  {
   "cell_type": "code",
   "execution_count": null,
   "metadata": {},
   "outputs": [],
   "source": []
  }
 ],
 "metadata": {
  "kernelspec": {
   "display_name": "Python 3",
   "language": "python",
   "name": "python3"
  },
  "language_info": {
   "codemirror_mode": {
    "name": "ipython",
    "version": 3
   },
   "file_extension": ".py",
   "mimetype": "text/x-python",
   "name": "python",
   "nbconvert_exporter": "python",
   "pygments_lexer": "ipython3",
   "version": "3.6.8"
  }
 },
 "nbformat": 4,
 "nbformat_minor": 2
}
